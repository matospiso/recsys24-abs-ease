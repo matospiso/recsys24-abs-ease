{
 "cells": [
  {
   "cell_type": "code",
   "execution_count": 1,
   "id": "initial_id",
   "metadata": {
    "ExecuteTime": {
     "end_time": "2024-05-11T14:15:34.181452Z",
     "start_time": "2024-05-11T14:15:33.303017Z"
    },
    "collapsed": true,
    "metadata": {}
   },
   "outputs": [],
   "source": [
    "import numpy as np\n",
    "import pandas as pd\n",
    "\n",
    "from dataset import UserSessionItemDataset\n",
    "from evaluation import ndcg\n",
    "from models import EASE, AbsEASE\n",
    "from pipelines import hyperparameter_selection, run_test"
   ]
  },
  {
   "cell_type": "code",
   "execution_count": 2,
   "id": "e8e499797bcae6bf",
   "metadata": {
    "ExecuteTime": {
     "end_time": "2024-05-11T14:15:36.380565Z",
     "start_time": "2024-05-11T14:15:34.192085Z"
    },
    "collapsed": false,
    "metadata": {}
   },
   "outputs": [
    {
     "data": {
      "text/html": [
       "<div>\n",
       "<style scoped>\n",
       "    .dataframe tbody tr th:only-of-type {\n",
       "        vertical-align: middle;\n",
       "    }\n",
       "\n",
       "    .dataframe tbody tr th {\n",
       "        vertical-align: top;\n",
       "    }\n",
       "\n",
       "    .dataframe thead th {\n",
       "        text-align: right;\n",
       "    }\n",
       "</style>\n",
       "<table border=\"1\" class=\"dataframe\">\n",
       "  <thead>\n",
       "    <tr style=\"text-align: right;\">\n",
       "      <th></th>\n",
       "      <th>userId</th>\n",
       "      <th>item_id</th>\n",
       "      <th>rating</th>\n",
       "      <th>sessionId</th>\n",
       "      <th>user_session_id</th>\n",
       "      <th>split</th>\n",
       "    </tr>\n",
       "  </thead>\n",
       "  <tbody>\n",
       "    <tr>\n",
       "      <th>0</th>\n",
       "      <td>0</td>\n",
       "      <td>0</td>\n",
       "      <td>1.0</td>\n",
       "      <td>1</td>\n",
       "      <td>0_1</td>\n",
       "      <td>train</td>\n",
       "    </tr>\n",
       "    <tr>\n",
       "      <th>1</th>\n",
       "      <td>0</td>\n",
       "      <td>16</td>\n",
       "      <td>1.0</td>\n",
       "      <td>1</td>\n",
       "      <td>0_1</td>\n",
       "      <td>train</td>\n",
       "    </tr>\n",
       "    <tr>\n",
       "      <th>2</th>\n",
       "      <td>0</td>\n",
       "      <td>14</td>\n",
       "      <td>1.0</td>\n",
       "      <td>1</td>\n",
       "      <td>0_1</td>\n",
       "      <td>train</td>\n",
       "    </tr>\n",
       "    <tr>\n",
       "      <th>3</th>\n",
       "      <td>0</td>\n",
       "      <td>13</td>\n",
       "      <td>1.0</td>\n",
       "      <td>1</td>\n",
       "      <td>0_1</td>\n",
       "      <td>train</td>\n",
       "    </tr>\n",
       "    <tr>\n",
       "      <th>4</th>\n",
       "      <td>0</td>\n",
       "      <td>12</td>\n",
       "      <td>1.0</td>\n",
       "      <td>1</td>\n",
       "      <td>0_1</td>\n",
       "      <td>train</td>\n",
       "    </tr>\n",
       "  </tbody>\n",
       "</table>\n",
       "</div>"
      ],
      "text/plain": [
       "   userId  item_id  rating  sessionId user_session_id  split\n",
       "0       0        0     1.0          1             0_1  train\n",
       "1       0       16     1.0          1             0_1  train\n",
       "2       0       14     1.0          1             0_1  train\n",
       "3       0       13     1.0          1             0_1  train\n",
       "4       0       12     1.0          1             0_1  train"
      ]
     },
     "execution_count": 2,
     "metadata": {},
     "output_type": "execute_result"
    }
   ],
   "source": [
    "DATA_FOLDER = \"./data/yelp2018/\"\n",
    "\n",
    "df = pd.read_csv(DATA_FOLDER + \"ratings_processed_Yelp.csv\")\n",
    "\n",
    "df.head()"
   ]
  },
  {
   "cell_type": "code",
   "execution_count": 3,
   "id": "9666f041",
   "metadata": {
    "metadata": {}
   },
   "outputs": [],
   "source": [
    "# keep only columns needed for experiments\n",
    "COLUMNS = [\"user_session_id\", \"item_id\", \"rating\", \"split\"]\n",
    "df = df[COLUMNS]\n",
    "\n",
    "# create user session enconding and item encoding\n",
    "user_session_id_to_idx = {user_session_id: idx for idx, user_session_id in enumerate(df['user_session_id'].unique())}\n",
    "user_session_idx_to_id = {idx: user_session_id for user_session_id, idx in user_session_id_to_idx.items()}\n",
    "\n",
    "item_id_to_idx = {item_id: idx for idx, item_id in enumerate(df['item_id'].unique())}\n",
    "item_idx_to_id = {idx: item_id for item_id, idx in item_id_to_idx.items()}\n",
    "\n",
    "# map values to idx using the above dicts\n",
    "df[\"user_session_id\"] = df[\"user_session_id\"].map(user_session_id_to_idx)\n",
    "df[\"item_id\"] = df[\"item_id\"].map(item_id_to_idx)\n",
    "\n",
    "# get number of unique user_sessions and unique items\n",
    "n_user_sessions = len(user_session_id_to_idx)\n",
    "n_items = len(item_id_to_idx)\n",
    "\n",
    "# instantiate dataset\n",
    "dataset = UserSessionItemDataset(df[df.split == \"train\"], df[df.split == \"val\"], df[df.split == \"test\"], n_user_sessions, n_items)"
   ]
  },
  {
   "cell_type": "code",
   "execution_count": 4,
   "id": "d753845d",
   "metadata": {
    "metadata": {}
   },
   "outputs": [
    {
     "ename": "KeyboardInterrupt",
     "evalue": "",
     "output_type": "error",
     "traceback": [
      "\u001b[0;31m---------------------------------------------------------------------------\u001b[0m",
      "\u001b[0;31mKeyboardInterrupt\u001b[0m                         Traceback (most recent call last)",
      "Cell \u001b[0;32mIn[4], line 3\u001b[0m\n\u001b[1;32m      1\u001b[0m l2s \u001b[38;5;241m=\u001b[39m [\u001b[38;5;241m16.\u001b[39m, \u001b[38;5;241m32.\u001b[39m, \u001b[38;5;241m64.\u001b[39m, \u001b[38;5;241m128.\u001b[39m, \u001b[38;5;241m256.\u001b[39m, \u001b[38;5;241m512.\u001b[39m, \u001b[38;5;241m1024.\u001b[39m, \u001b[38;5;241m2048.\u001b[39m]\n\u001b[0;32m----> 3\u001b[0m best_l2s \u001b[38;5;241m=\u001b[39m \u001b[43mhyperparameter_selection\u001b[49m\u001b[43m(\u001b[49m\u001b[43mdataset\u001b[49m\u001b[43m,\u001b[49m\u001b[43m \u001b[49m\u001b[43ml2s\u001b[49m\u001b[43m,\u001b[49m\u001b[43m \u001b[49m\u001b[43mndcg\u001b[49m\u001b[43m,\u001b[49m\u001b[43m \u001b[49m\u001b[43mk\u001b[49m\u001b[38;5;241;43m=\u001b[39;49m\u001b[38;5;241;43m100\u001b[39;49m\u001b[43m)\u001b[49m\n",
      "File \u001b[0;32m~/codes/recsys24-abs-ease/pipelines.py:20\u001b[0m, in \u001b[0;36mhyperparameter_selection\u001b[0;34m(dataset, l2s, metric, k, target_value)\u001b[0m\n\u001b[1;32m     18\u001b[0m \u001b[38;5;28mprint\u001b[39m(\u001b[38;5;124mf\u001b[39m\u001b[38;5;124m\"\u001b[39m\u001b[38;5;124mL2 \u001b[39m\u001b[38;5;132;01m{\u001b[39;00ml2\u001b[38;5;132;01m}\u001b[39;00m\u001b[38;5;124m\"\u001b[39m)\n\u001b[1;32m     19\u001b[0m ease \u001b[38;5;241m=\u001b[39m EASE(l2)  \u001b[38;5;66;03m# train EASE\u001b[39;00m\n\u001b[0;32m---> 20\u001b[0m \u001b[43mease\u001b[49m\u001b[38;5;241;43m.\u001b[39;49m\u001b[43mfit\u001b[49m\u001b[43m(\u001b[49m\u001b[43mtrain_X\u001b[49m\u001b[43m)\u001b[49m\n\u001b[1;32m     21\u001b[0m absease \u001b[38;5;241m=\u001b[39m AbsEASE(l2)\n\u001b[1;32m     22\u001b[0m absease\u001b[38;5;241m.\u001b[39mB \u001b[38;5;241m=\u001b[39m deepcopy(ease\u001b[38;5;241m.\u001b[39mB)  \u001b[38;5;66;03m# just copy EASE and modify the weights\u001b[39;00m\n",
      "File \u001b[0;32m~/codes/recsys24-abs-ease/models.py:21\u001b[0m, in \u001b[0;36mEASE.fit\u001b[0;34m(self, X, density)\u001b[0m\n\u001b[1;32m     18\u001b[0m \u001b[38;5;28mself\u001b[39m\u001b[38;5;241m.\u001b[39mB \u001b[38;5;241m=\u001b[39m np\u001b[38;5;241m.\u001b[39meye(n_items, dtype\u001b[38;5;241m=\u001b[39mX\u001b[38;5;241m.\u001b[39mdtype) \u001b[38;5;241m-\u001b[39m P \u001b[38;5;241m/\u001b[39m np\u001b[38;5;241m.\u001b[39mdiag(P)\n\u001b[1;32m     20\u001b[0m \u001b[38;5;66;03m# prune to specified density\u001b[39;00m\n\u001b[0;32m---> 21\u001b[0m keep_threshold \u001b[38;5;241m=\u001b[39m np\u001b[38;5;241m.\u001b[39mquantile(\u001b[43mnp\u001b[49m\u001b[38;5;241;43m.\u001b[39;49m\u001b[43mabs\u001b[49m\u001b[43m(\u001b[49m\u001b[38;5;28;43mself\u001b[39;49m\u001b[38;5;241;43m.\u001b[39;49m\u001b[43mB\u001b[49m\u001b[43m)\u001b[49m, \u001b[38;5;241m1\u001b[39m\u001b[38;5;241m-\u001b[39mdensity)\n\u001b[1;32m     22\u001b[0m \u001b[38;5;28mself\u001b[39m\u001b[38;5;241m.\u001b[39mB[np\u001b[38;5;241m.\u001b[39mabs(\u001b[38;5;28mself\u001b[39m\u001b[38;5;241m.\u001b[39mB) \u001b[38;5;241m<\u001b[39m keep_threshold] \u001b[38;5;241m=\u001b[39m \u001b[38;5;241m0\u001b[39m\n\u001b[1;32m     23\u001b[0m nonzero_x, nonzero_y \u001b[38;5;241m=\u001b[39m \u001b[38;5;28mself\u001b[39m\u001b[38;5;241m.\u001b[39mB\u001b[38;5;241m.\u001b[39mnonzero()\n",
      "\u001b[0;31mKeyboardInterrupt\u001b[0m: "
     ]
    }
   ],
   "source": [
    "%%capture hypers\n",
    "\n",
    "l2s = [16., 32., 64., 128., 256., 512., 1024., 2048.]\n",
    "\n",
    "best_l2s = hyperparameter_selection(dataset, l2s, ndcg, k=100)"
   ]
  },
  {
   "cell_type": "code",
   "execution_count": 5,
   "id": "a1ee48f2",
   "metadata": {
    "metadata": {}
   },
   "outputs": [
    {
     "name": "stdout",
     "output_type": "stream",
     "text": [
      "L2 16.0\n",
      "Constructing G...\n",
      "Density of G: 0.3285%\n",
      "Inverting G...\n",
      "\n"
     ]
    }
   ],
   "source": [
    "for line in hypers.stdout.split(\"\\n\"):\n",
    "    print(line)"
   ]
  },
  {
   "cell_type": "code",
   "execution_count": null,
   "id": "823fb516",
   "metadata": {
    "metadata": {}
   },
   "outputs": [],
   "source": [
    "%%capture results\n",
    "\n",
    "models = [(\"EASE\", EASE, best_l2s[\"EASE\"][0]), (\"AbsEASE\", AbsEASE, best_l2s[\"AbsEASE\"][0])]\n",
    "\n",
    "run_test(models, dataset, ks=[10,20,50,100,200,500])"
   ]
  },
  {
   "cell_type": "code",
   "execution_count": null,
   "id": "662cc27e",
   "metadata": {
    "metadata": {}
   },
   "outputs": [
    {
     "name": "stdout",
     "output_type": "stream",
     "text": [
      "Split test\n",
      "EASE\n",
      "Constructing G...\n",
      "Density of G: 0.8614%\n",
      "Inverting G...\n",
      "pos_inputs\n",
      "recall_liked @ 10: 0.027367960484194983 +- 0.0002858207136123444\n",
      "recall_disliked @ 10: 0.00937069541021903 +- 0.0002831766889089224\n",
      "ndcg @ 10: 0.03721101691783137 +- 0.000421343472087699\n",
      "\n",
      "recall_liked @ 20: 0.04719899963840789 +- 0.0003755001360585637\n",
      "recall_disliked @ 20: 0.018253255365881977 +- 0.00039382772535589354\n",
      "ndcg @ 20: 0.051204320978116426 +- 0.000485485134017098\n",
      "\n",
      "recall_liked @ 50: 0.09431455837017902 +- 0.0005435316673981164\n",
      "recall_disliked @ 50: 0.04226728854125566 +- 0.0006033763916088162\n",
      "ndcg @ 50: 0.07738647029900476 +- 0.0006055021518742814\n",
      "\n",
      "recall_liked @ 100: 0.1545218697145432 +- 0.0007365315501937447\n",
      "recall_disliked @ 100: 0.0779810022195923 +- 0.0008308543736018609\n",
      "ndcg @ 100: 0.10489852018470314 +- 0.000738417535186902\n",
      "\n",
      "recall_liked @ 200: 0.24364567957323457 +- 0.001005046469844797\n",
      "recall_disliked @ 200: 0.1379936945001327 +- 0.0011120954874125207\n",
      "ndcg @ 200: 0.1390009486243042 +- 0.0009377703908608306\n",
      "\n",
      "recall_liked @ 500: 0.40272438635025726 +- 0.0014297918389993584\n",
      "recall_disliked @ 500: 0.26648215857656593 +- 0.001532518244508748\n",
      "ndcg @ 500: 0.187478242595239 +- 0.001269367454364132\n",
      "\n",
      "\n",
      "pos_neg_inputs\n",
      "recall_liked @ 10: 0.02577960930479719 +- 0.00027137763871986584\n",
      "recall_disliked @ 10: 0.008442103739620734 +- 0.00027260192037665046\n",
      "ndcg @ 10: 0.03659183452407801 +- 0.00039923676061941746\n",
      "\n",
      "recall_liked @ 20: 0.04464927707023201 +- 0.0003582555854177192\n",
      "recall_disliked @ 20: 0.016293140265075404 +- 0.0003804242473257305\n",
      "ndcg @ 20: 0.05058731674604596 +- 0.00045873990429055807\n",
      "\n",
      "recall_liked @ 50: 0.08918563999783821 +- 0.0005227066849642574\n",
      "recall_disliked @ 50: 0.03798957670891806 +- 0.0005799422997626108\n",
      "ndcg @ 50: 0.0764430823382032 +- 0.0005713475779912352\n",
      "\n",
      "recall_liked @ 100: 0.14572441821500062 +- 0.0007064875667257468\n",
      "recall_disliked @ 100: 0.06965041041556068 +- 0.0007899629027643892\n",
      "ndcg @ 100: 0.10341729948849437 +- 0.0006987332064889546\n",
      "\n",
      "recall_liked @ 200: 0.2281466236386773 +- 0.0009587398329152862\n",
      "recall_disliked @ 200: 0.1213258963764901 +- 0.0010424413770873753\n",
      "ndcg @ 200: 0.13747808128237532 +- 0.0008718985028044531\n",
      "\n",
      "recall_liked @ 500: 0.3724464232909123 +- 0.001347419261248448\n",
      "recall_disliked @ 500: 0.23144376077411605 +- 0.001426413795680283\n",
      "ndcg @ 500: 0.1853465806266916 +- 0.001155931626053234\n",
      "\n",
      "\n",
      "\n",
      "AbsEASE\n",
      "Constructing G...\n",
      "Density of G: 0.8614%\n",
      "Inverting G...\n",
      "pos_inputs\n",
      "recall_liked @ 10: 0.028293786868373954 +- 0.00028436169783621596\n",
      "recall_disliked @ 10: 0.009819199811691659 +- 0.0002925355236882434\n",
      "ndcg @ 10: 0.03879906356842815 +- 0.0004234240646557224\n",
      "\n",
      "recall_liked @ 20: 0.04972015675624706 +- 0.00038770701320154635\n",
      "recall_disliked @ 20: 0.019234743972987346 +- 0.0004101455282533878\n",
      "ndcg @ 20: 0.053879474649122926 +- 0.0004941449470640468\n",
      "\n",
      "recall_liked @ 50: 0.1012527552798511 +- 0.000571098708161728\n",
      "recall_disliked @ 50: 0.045276898963801375 +- 0.0006325698937793877\n",
      "ndcg @ 50: 0.08250874148146153 +- 0.0006249899693767149\n",
      "\n",
      "recall_liked @ 100: 0.17004155454679754 +- 0.0007910859717250149\n",
      "recall_disliked @ 100: 0.0844436632922477 +- 0.0008792222491077849\n",
      "ndcg @ 100: 0.11334785882627829 +- 0.0007821684613365117\n",
      "\n",
      "recall_liked @ 200: 0.27942117416988577 +- 0.001105934184728201\n",
      "recall_disliked @ 200: 0.15763985793566193 +- 0.0012081404171072395\n",
      "ndcg @ 200: 0.1534541717060754 +- 0.0010177107251835688\n",
      "\n",
      "recall_liked @ 500: 0.5040542587204828 +- 0.0015835595753364655\n",
      "recall_disliked @ 500: 0.34221554286409983 +- 0.001752425768756992\n",
      "ndcg @ 500: 0.2140419432752693 +- 0.0014527097076642785\n",
      "\n",
      "\n",
      "pos_neg_inputs\n",
      "recall_liked @ 10: 0.026267664238176457 +- 0.00026841359464649953\n",
      "recall_disliked @ 10: 0.008070465253014195 +- 0.0002693482532901002\n",
      "ndcg @ 10: 0.03887638714619607 +- 0.0003962597055411148\n",
      "\n",
      "recall_liked @ 20: 0.04603355016149898 +- 0.0003640667497691045\n",
      "recall_disliked @ 20: 0.015765755263229715 +- 0.00038312688753697714\n",
      "ndcg @ 20: 0.054212722839728375 +- 0.00045835473546630695\n",
      "\n",
      "recall_liked @ 50: 0.09231139580787906 +- 0.0005443559625553048\n",
      "recall_disliked @ 50: 0.037024522814001884 +- 0.0005865451317386591\n",
      "ndcg @ 50: 0.0828417981270084 +- 0.0005768745406527672\n",
      "\n",
      "recall_liked @ 100: 0.1531571418429746 +- 0.0007614927620893591\n",
      "recall_disliked @ 100: 0.06772748040382133 +- 0.0008089469899584697\n",
      "ndcg @ 100: 0.11404091795061053 +- 0.0007152147199716611\n",
      "\n",
      "recall_liked @ 200: 0.247375168436174 +- 0.0010824338262716466\n",
      "recall_disliked @ 200: 0.12448815064048989 +- 0.0011137686630867242\n",
      "ndcg @ 200: 0.1548946509874455 +- 0.0009112080755036705\n",
      "\n",
      "recall_liked @ 500: 0.4310168754664623 +- 0.001602088267034179\n",
      "recall_disliked @ 500: 0.26185855369812233 +- 0.0016513559658847242\n",
      "ndcg @ 500: 0.21944616874857154 +- 0.001219470961238411\n",
      "\n",
      "\n",
      "\n",
      "-------------------------------------------\n",
      "\n"
     ]
    }
   ],
   "source": [
    "for line in results.stdout.split(\"\\n\"):\n",
    "    print(line)"
   ]
  },
  {
   "cell_type": "code",
   "execution_count": null,
   "id": "0c3ae497",
   "metadata": {
    "metadata": {}
   },
   "outputs": [],
   "source": [
    "RESULTS_FOLDER = \"./results/yelp2018/\"\n",
    "\n",
    "with open(RESULTS_FOLDER + \"hyperparametersYelp.txt\", 'w') as f: f.write(hypers.stdout)\n",
    "with open(RESULTS_FOLDER + \"resultsYelp.txt\", 'w') as f: f.write(results.stdout)"
   ]
  }
 ],
 "metadata": {
  "kernelspec": {
   "display_name": "Python 3",
   "language": "python",
   "name": "python3"
  },
  "language_info": {
   "codemirror_mode": {
    "name": "ipython",
    "version": 3
   },
   "file_extension": ".py",
   "mimetype": "text/x-python",
   "name": "python",
   "nbconvert_exporter": "python",
   "pygments_lexer": "ipython3",
   "version": "3.10.14"
  }
 },
 "nbformat": 4,
 "nbformat_minor": 5
}
