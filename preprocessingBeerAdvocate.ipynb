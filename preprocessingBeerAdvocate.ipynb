{
 "cells": [
  {
   "cell_type": "code",
   "execution_count": 1,
   "metadata": {
    "metadata": {}
   },
   "outputs": [],
   "source": [
    "import numpy as np\n",
    "import pandas as pd\n",
    "\n",
    "SEED = 12345\n",
    "np.random.seed(SEED)"
   ]
  },
  {
   "cell_type": "markdown",
   "metadata": {},
   "source": [
    "# Load original dataset\n",
    "- dataset can be obtained from https://www.kaggle.com/datasets/thedevastator/1-5-million-beer-reviews-from-beer-advocate\n",
    "- to recreate the processed dataset, put `beer_reviews.csv` in `./data/beeradvocate/` folder"
   ]
  },
  {
   "cell_type": "code",
   "execution_count": 2,
   "metadata": {
    "collapsed": false,
    "metadata": {}
   },
   "outputs": [
    {
     "data": {
      "text/html": [
       "<div>\n",
       "<style scoped>\n",
       "    .dataframe tbody tr th:only-of-type {\n",
       "        vertical-align: middle;\n",
       "    }\n",
       "\n",
       "    .dataframe tbody tr th {\n",
       "        vertical-align: top;\n",
       "    }\n",
       "\n",
       "    .dataframe thead th {\n",
       "        text-align: right;\n",
       "    }\n",
       "</style>\n",
       "<table border=\"1\" class=\"dataframe\">\n",
       "  <thead>\n",
       "    <tr style=\"text-align: right;\">\n",
       "      <th></th>\n",
       "      <th>index</th>\n",
       "      <th>brewery_id</th>\n",
       "      <th>brewery_name</th>\n",
       "      <th>review_time</th>\n",
       "      <th>review_overall</th>\n",
       "      <th>review_aroma</th>\n",
       "      <th>review_appearance</th>\n",
       "      <th>review_profilename</th>\n",
       "      <th>beer_style</th>\n",
       "      <th>review_palate</th>\n",
       "      <th>review_taste</th>\n",
       "      <th>beer_name</th>\n",
       "      <th>beer_abv</th>\n",
       "      <th>beer_beerid</th>\n",
       "    </tr>\n",
       "  </thead>\n",
       "  <tbody>\n",
       "    <tr>\n",
       "      <th>0</th>\n",
       "      <td>0</td>\n",
       "      <td>10325</td>\n",
       "      <td>Vecchio Birraio</td>\n",
       "      <td>1234817823</td>\n",
       "      <td>1.5</td>\n",
       "      <td>2.0</td>\n",
       "      <td>2.5</td>\n",
       "      <td>stcules</td>\n",
       "      <td>Hefeweizen</td>\n",
       "      <td>1.5</td>\n",
       "      <td>1.5</td>\n",
       "      <td>Sausa Weizen</td>\n",
       "      <td>5.0</td>\n",
       "      <td>47986</td>\n",
       "    </tr>\n",
       "    <tr>\n",
       "      <th>1</th>\n",
       "      <td>1</td>\n",
       "      <td>10325</td>\n",
       "      <td>Vecchio Birraio</td>\n",
       "      <td>1235915097</td>\n",
       "      <td>3.0</td>\n",
       "      <td>2.5</td>\n",
       "      <td>3.0</td>\n",
       "      <td>stcules</td>\n",
       "      <td>English Strong Ale</td>\n",
       "      <td>3.0</td>\n",
       "      <td>3.0</td>\n",
       "      <td>Red Moon</td>\n",
       "      <td>6.2</td>\n",
       "      <td>48213</td>\n",
       "    </tr>\n",
       "    <tr>\n",
       "      <th>2</th>\n",
       "      <td>2</td>\n",
       "      <td>10325</td>\n",
       "      <td>Vecchio Birraio</td>\n",
       "      <td>1235916604</td>\n",
       "      <td>3.0</td>\n",
       "      <td>2.5</td>\n",
       "      <td>3.0</td>\n",
       "      <td>stcules</td>\n",
       "      <td>Foreign / Export Stout</td>\n",
       "      <td>3.0</td>\n",
       "      <td>3.0</td>\n",
       "      <td>Black Horse Black Beer</td>\n",
       "      <td>6.5</td>\n",
       "      <td>48215</td>\n",
       "    </tr>\n",
       "    <tr>\n",
       "      <th>3</th>\n",
       "      <td>3</td>\n",
       "      <td>10325</td>\n",
       "      <td>Vecchio Birraio</td>\n",
       "      <td>1234725145</td>\n",
       "      <td>3.0</td>\n",
       "      <td>3.0</td>\n",
       "      <td>3.5</td>\n",
       "      <td>stcules</td>\n",
       "      <td>German Pilsener</td>\n",
       "      <td>2.5</td>\n",
       "      <td>3.0</td>\n",
       "      <td>Sausa Pils</td>\n",
       "      <td>5.0</td>\n",
       "      <td>47969</td>\n",
       "    </tr>\n",
       "    <tr>\n",
       "      <th>4</th>\n",
       "      <td>4</td>\n",
       "      <td>1075</td>\n",
       "      <td>Caldera Brewing Company</td>\n",
       "      <td>1293735206</td>\n",
       "      <td>4.0</td>\n",
       "      <td>4.5</td>\n",
       "      <td>4.0</td>\n",
       "      <td>johnmichaelsen</td>\n",
       "      <td>American Double / Imperial IPA</td>\n",
       "      <td>4.0</td>\n",
       "      <td>4.5</td>\n",
       "      <td>Cauldron DIPA</td>\n",
       "      <td>7.7</td>\n",
       "      <td>64883</td>\n",
       "    </tr>\n",
       "  </tbody>\n",
       "</table>\n",
       "</div>"
      ],
      "text/plain": [
       "   index  brewery_id             brewery_name  review_time  review_overall  \\\n",
       "0      0       10325          Vecchio Birraio   1234817823             1.5   \n",
       "1      1       10325          Vecchio Birraio   1235915097             3.0   \n",
       "2      2       10325          Vecchio Birraio   1235916604             3.0   \n",
       "3      3       10325          Vecchio Birraio   1234725145             3.0   \n",
       "4      4        1075  Caldera Brewing Company   1293735206             4.0   \n",
       "\n",
       "   review_aroma  review_appearance review_profilename  \\\n",
       "0           2.0                2.5            stcules   \n",
       "1           2.5                3.0            stcules   \n",
       "2           2.5                3.0            stcules   \n",
       "3           3.0                3.5            stcules   \n",
       "4           4.5                4.0     johnmichaelsen   \n",
       "\n",
       "                       beer_style  review_palate  review_taste  \\\n",
       "0                      Hefeweizen            1.5           1.5   \n",
       "1              English Strong Ale            3.0           3.0   \n",
       "2          Foreign / Export Stout            3.0           3.0   \n",
       "3                 German Pilsener            2.5           3.0   \n",
       "4  American Double / Imperial IPA            4.0           4.5   \n",
       "\n",
       "                beer_name  beer_abv  beer_beerid  \n",
       "0            Sausa Weizen       5.0        47986  \n",
       "1                Red Moon       6.2        48213  \n",
       "2  Black Horse Black Beer       6.5        48215  \n",
       "3              Sausa Pils       5.0        47969  \n",
       "4           Cauldron DIPA       7.7        64883  "
      ]
     },
     "execution_count": 2,
     "metadata": {},
     "output_type": "execute_result"
    }
   ],
   "source": [
    "DATA_FOLDER = \"./data/beeradvocate/\"\n",
    "\n",
    "ratings = pd.read_csv(DATA_FOLDER + \"beer_reviews.csv\")\n",
    "\n",
    "ratings.head()"
   ]
  },
  {
   "cell_type": "code",
   "execution_count": 3,
   "metadata": {
    "metadata": {}
   },
   "outputs": [
    {
     "data": {
      "text/plain": [
       "Index(['index', 'brewery_id', 'brewery_name', 'review_time', 'review_overall',\n",
       "       'review_aroma', 'review_appearance', 'review_profilename', 'beer_style',\n",
       "       'review_palate', 'review_taste', 'beer_name', 'beer_abv',\n",
       "       'beer_beerid'],\n",
       "      dtype='object')"
      ]
     },
     "execution_count": 3,
     "metadata": {},
     "output_type": "execute_result"
    }
   ],
   "source": [
    "ratings.columns"
   ]
  },
  {
   "cell_type": "markdown",
   "metadata": {
    "collapsed": false
   },
   "source": [
    "- rename `beer_beerid` to `item_id`\n",
    "- we use `review_overall` as target (new column name: `rating`)"
   ]
  },
  {
   "cell_type": "code",
   "execution_count": 4,
   "metadata": {
    "metadata": {}
   },
   "outputs": [],
   "source": [
    "ratings.columns = ['index', 'brewery_id', 'brewery_name', 'timestamp', 'rating',\n",
    "       'review_aroma', 'review_appearance', 'userId', 'beer_style',\n",
    "       'review_palate', 'review_taste', 'beer_name', 'beer_abv',\n",
    "       'item_id']"
   ]
  },
  {
   "cell_type": "code",
   "execution_count": 5,
   "metadata": {
    "metadata": {}
   },
   "outputs": [],
   "source": [
    "ratings[\"datetime\"] = pd.to_datetime(ratings[\"timestamp\"], unit = \"s\")"
   ]
  },
  {
   "cell_type": "code",
   "execution_count": 6,
   "metadata": {
    "metadata": {}
   },
   "outputs": [
    {
     "data": {
      "text/html": [
       "<div>\n",
       "<style scoped>\n",
       "    .dataframe tbody tr th:only-of-type {\n",
       "        vertical-align: middle;\n",
       "    }\n",
       "\n",
       "    .dataframe tbody tr th {\n",
       "        vertical-align: top;\n",
       "    }\n",
       "\n",
       "    .dataframe thead th {\n",
       "        text-align: right;\n",
       "    }\n",
       "</style>\n",
       "<table border=\"1\" class=\"dataframe\">\n",
       "  <thead>\n",
       "    <tr style=\"text-align: right;\">\n",
       "      <th></th>\n",
       "      <th>index</th>\n",
       "      <th>brewery_id</th>\n",
       "      <th>brewery_name</th>\n",
       "      <th>timestamp</th>\n",
       "      <th>rating</th>\n",
       "      <th>review_aroma</th>\n",
       "      <th>review_appearance</th>\n",
       "      <th>userId</th>\n",
       "      <th>beer_style</th>\n",
       "      <th>review_palate</th>\n",
       "      <th>review_taste</th>\n",
       "      <th>beer_name</th>\n",
       "      <th>beer_abv</th>\n",
       "      <th>item_id</th>\n",
       "      <th>datetime</th>\n",
       "    </tr>\n",
       "  </thead>\n",
       "  <tbody>\n",
       "    <tr>\n",
       "      <th>614509</th>\n",
       "      <td>614509</td>\n",
       "      <td>199</td>\n",
       "      <td>Ballast Point Brewing Company</td>\n",
       "      <td>1205561385</td>\n",
       "      <td>5.0</td>\n",
       "      <td>4.0</td>\n",
       "      <td>3.5</td>\n",
       "      <td>0110x011</td>\n",
       "      <td>American Double / Imperial IPA</td>\n",
       "      <td>4.0</td>\n",
       "      <td>4.0</td>\n",
       "      <td>Dorado Double IPA</td>\n",
       "      <td>9.6</td>\n",
       "      <td>10386</td>\n",
       "      <td>2008-03-15 06:09:45</td>\n",
       "    </tr>\n",
       "    <tr>\n",
       "      <th>182729</th>\n",
       "      <td>182729</td>\n",
       "      <td>396</td>\n",
       "      <td>AleSmith Brewing Company</td>\n",
       "      <td>1205823873</td>\n",
       "      <td>5.0</td>\n",
       "      <td>5.0</td>\n",
       "      <td>4.0</td>\n",
       "      <td>0110x011</td>\n",
       "      <td>American Double / Imperial IPA</td>\n",
       "      <td>4.5</td>\n",
       "      <td>4.5</td>\n",
       "      <td>YuleSmith (Summer)</td>\n",
       "      <td>8.5</td>\n",
       "      <td>7284</td>\n",
       "      <td>2008-03-18 07:04:33</td>\n",
       "    </tr>\n",
       "    <tr>\n",
       "      <th>1134674</th>\n",
       "      <td>1134674</td>\n",
       "      <td>863</td>\n",
       "      <td>Russian River Brewing Company</td>\n",
       "      <td>1207011338</td>\n",
       "      <td>5.0</td>\n",
       "      <td>5.0</td>\n",
       "      <td>5.0</td>\n",
       "      <td>0110x011</td>\n",
       "      <td>American Double / Imperial IPA</td>\n",
       "      <td>4.5</td>\n",
       "      <td>4.5</td>\n",
       "      <td>Pliny The Elder</td>\n",
       "      <td>8.0</td>\n",
       "      <td>7971</td>\n",
       "      <td>2008-04-01 00:55:38</td>\n",
       "    </tr>\n",
       "    <tr>\n",
       "      <th>462893</th>\n",
       "      <td>462893</td>\n",
       "      <td>559</td>\n",
       "      <td>Speakeasy Ales &amp; Lagers</td>\n",
       "      <td>1207362193</td>\n",
       "      <td>4.5</td>\n",
       "      <td>4.0</td>\n",
       "      <td>4.0</td>\n",
       "      <td>0110x011</td>\n",
       "      <td>American Double / Imperial IPA</td>\n",
       "      <td>3.5</td>\n",
       "      <td>4.0</td>\n",
       "      <td>Double Daddy Imperial India Pale Ale</td>\n",
       "      <td>9.5</td>\n",
       "      <td>25283</td>\n",
       "      <td>2008-04-05 02:23:13</td>\n",
       "    </tr>\n",
       "    <tr>\n",
       "      <th>886485</th>\n",
       "      <td>886485</td>\n",
       "      <td>147</td>\n",
       "      <td>Stone Brewing Co.</td>\n",
       "      <td>1208211124</td>\n",
       "      <td>5.0</td>\n",
       "      <td>5.0</td>\n",
       "      <td>4.0</td>\n",
       "      <td>0110x011</td>\n",
       "      <td>American Black Ale</td>\n",
       "      <td>4.0</td>\n",
       "      <td>5.0</td>\n",
       "      <td>Stone Sublimely Self-Righteous Ale</td>\n",
       "      <td>8.7</td>\n",
       "      <td>38470</td>\n",
       "      <td>2008-04-14 22:12:04</td>\n",
       "    </tr>\n",
       "    <tr>\n",
       "      <th>...</th>\n",
       "      <td>...</td>\n",
       "      <td>...</td>\n",
       "      <td>...</td>\n",
       "      <td>...</td>\n",
       "      <td>...</td>\n",
       "      <td>...</td>\n",
       "      <td>...</td>\n",
       "      <td>...</td>\n",
       "      <td>...</td>\n",
       "      <td>...</td>\n",
       "      <td>...</td>\n",
       "      <td>...</td>\n",
       "      <td>...</td>\n",
       "      <td>...</td>\n",
       "      <td>...</td>\n",
       "    </tr>\n",
       "    <tr>\n",
       "      <th>1186396</th>\n",
       "      <td>1186396</td>\n",
       "      <td>10099</td>\n",
       "      <td>Dogfish Head Brewery</td>\n",
       "      <td>1253919442</td>\n",
       "      <td>3.0</td>\n",
       "      <td>4.0</td>\n",
       "      <td>4.5</td>\n",
       "      <td>NaN</td>\n",
       "      <td>Pumpkin Ale</td>\n",
       "      <td>4.0</td>\n",
       "      <td>3.0</td>\n",
       "      <td>Punkin Ale</td>\n",
       "      <td>7.0</td>\n",
       "      <td>6260</td>\n",
       "      <td>2009-09-25 22:57:22</td>\n",
       "    </tr>\n",
       "    <tr>\n",
       "      <th>639093</th>\n",
       "      <td>639093</td>\n",
       "      <td>30</td>\n",
       "      <td>Avery Brewing Company</td>\n",
       "      <td>1254086555</td>\n",
       "      <td>4.5</td>\n",
       "      <td>4.5</td>\n",
       "      <td>5.0</td>\n",
       "      <td>NaN</td>\n",
       "      <td>American Barleywine</td>\n",
       "      <td>5.0</td>\n",
       "      <td>4.5</td>\n",
       "      <td>Hog Heaven Barley Wine</td>\n",
       "      <td>9.2</td>\n",
       "      <td>1490</td>\n",
       "      <td>2009-09-27 21:22:35</td>\n",
       "    </tr>\n",
       "    <tr>\n",
       "      <th>957038</th>\n",
       "      <td>957038</td>\n",
       "      <td>193</td>\n",
       "      <td>Anderson Valley Brewing Company</td>\n",
       "      <td>1254112073</td>\n",
       "      <td>3.0</td>\n",
       "      <td>4.0</td>\n",
       "      <td>4.5</td>\n",
       "      <td>NaN</td>\n",
       "      <td>Dubbel</td>\n",
       "      <td>3.0</td>\n",
       "      <td>3.0</td>\n",
       "      <td>Brother David's Belgian-style Double Ale</td>\n",
       "      <td>9.0</td>\n",
       "      <td>4168</td>\n",
       "      <td>2009-09-28 04:27:53</td>\n",
       "    </tr>\n",
       "    <tr>\n",
       "      <th>271748</th>\n",
       "      <td>271748</td>\n",
       "      <td>68</td>\n",
       "      <td>Flying Dog Brewery</td>\n",
       "      <td>1254265224</td>\n",
       "      <td>4.0</td>\n",
       "      <td>3.5</td>\n",
       "      <td>4.0</td>\n",
       "      <td>NaN</td>\n",
       "      <td>Baltic Porter</td>\n",
       "      <td>4.0</td>\n",
       "      <td>3.5</td>\n",
       "      <td>Gonzo Imperial Porter</td>\n",
       "      <td>9.2</td>\n",
       "      <td>24071</td>\n",
       "      <td>2009-09-29 23:00:24</td>\n",
       "    </tr>\n",
       "    <tr>\n",
       "      <th>332327</th>\n",
       "      <td>332327</td>\n",
       "      <td>1805</td>\n",
       "      <td>Rock Art Brewery</td>\n",
       "      <td>1254701529</td>\n",
       "      <td>3.0</td>\n",
       "      <td>3.5</td>\n",
       "      <td>3.5</td>\n",
       "      <td>NaN</td>\n",
       "      <td>American Double / Imperial IPA</td>\n",
       "      <td>3.0</td>\n",
       "      <td>3.5</td>\n",
       "      <td>Belvidere Big IPA</td>\n",
       "      <td>8.0</td>\n",
       "      <td>47099</td>\n",
       "      <td>2009-10-05 00:12:09</td>\n",
       "    </tr>\n",
       "  </tbody>\n",
       "</table>\n",
       "<p>1586614 rows × 15 columns</p>\n",
       "</div>"
      ],
      "text/plain": [
       "           index  brewery_id                     brewery_name   timestamp  \\\n",
       "614509    614509         199    Ballast Point Brewing Company  1205561385   \n",
       "182729    182729         396         AleSmith Brewing Company  1205823873   \n",
       "1134674  1134674         863    Russian River Brewing Company  1207011338   \n",
       "462893    462893         559          Speakeasy Ales & Lagers  1207362193   \n",
       "886485    886485         147                Stone Brewing Co.  1208211124   \n",
       "...          ...         ...                              ...         ...   \n",
       "1186396  1186396       10099             Dogfish Head Brewery  1253919442   \n",
       "639093    639093          30            Avery Brewing Company  1254086555   \n",
       "957038    957038         193  Anderson Valley Brewing Company  1254112073   \n",
       "271748    271748          68               Flying Dog Brewery  1254265224   \n",
       "332327    332327        1805                 Rock Art Brewery  1254701529   \n",
       "\n",
       "         rating  review_aroma  review_appearance    userId  \\\n",
       "614509      5.0           4.0                3.5  0110x011   \n",
       "182729      5.0           5.0                4.0  0110x011   \n",
       "1134674     5.0           5.0                5.0  0110x011   \n",
       "462893      4.5           4.0                4.0  0110x011   \n",
       "886485      5.0           5.0                4.0  0110x011   \n",
       "...         ...           ...                ...       ...   \n",
       "1186396     3.0           4.0                4.5       NaN   \n",
       "639093      4.5           4.5                5.0       NaN   \n",
       "957038      3.0           4.0                4.5       NaN   \n",
       "271748      4.0           3.5                4.0       NaN   \n",
       "332327      3.0           3.5                3.5       NaN   \n",
       "\n",
       "                             beer_style  review_palate  review_taste  \\\n",
       "614509   American Double / Imperial IPA            4.0           4.0   \n",
       "182729   American Double / Imperial IPA            4.5           4.5   \n",
       "1134674  American Double / Imperial IPA            4.5           4.5   \n",
       "462893   American Double / Imperial IPA            3.5           4.0   \n",
       "886485               American Black Ale            4.0           5.0   \n",
       "...                                 ...            ...           ...   \n",
       "1186396                     Pumpkin Ale            4.0           3.0   \n",
       "639093              American Barleywine            5.0           4.5   \n",
       "957038                           Dubbel            3.0           3.0   \n",
       "271748                    Baltic Porter            4.0           3.5   \n",
       "332327   American Double / Imperial IPA            3.0           3.5   \n",
       "\n",
       "                                        beer_name  beer_abv  item_id  \\\n",
       "614509                          Dorado Double IPA       9.6    10386   \n",
       "182729                         YuleSmith (Summer)       8.5     7284   \n",
       "1134674                           Pliny The Elder       8.0     7971   \n",
       "462893       Double Daddy Imperial India Pale Ale       9.5    25283   \n",
       "886485         Stone Sublimely Self-Righteous Ale       8.7    38470   \n",
       "...                                           ...       ...      ...   \n",
       "1186396                                Punkin Ale       7.0     6260   \n",
       "639093                     Hog Heaven Barley Wine       9.2     1490   \n",
       "957038   Brother David's Belgian-style Double Ale       9.0     4168   \n",
       "271748                      Gonzo Imperial Porter       9.2    24071   \n",
       "332327                          Belvidere Big IPA       8.0    47099   \n",
       "\n",
       "                   datetime  \n",
       "614509  2008-03-15 06:09:45  \n",
       "182729  2008-03-18 07:04:33  \n",
       "1134674 2008-04-01 00:55:38  \n",
       "462893  2008-04-05 02:23:13  \n",
       "886485  2008-04-14 22:12:04  \n",
       "...                     ...  \n",
       "1186396 2009-09-25 22:57:22  \n",
       "639093  2009-09-27 21:22:35  \n",
       "957038  2009-09-28 04:27:53  \n",
       "271748  2009-09-29 23:00:24  \n",
       "332327  2009-10-05 00:12:09  \n",
       "\n",
       "[1586614 rows x 15 columns]"
      ]
     },
     "execution_count": 6,
     "metadata": {},
     "output_type": "execute_result"
    }
   ],
   "source": [
    "ratings.sort_values([\"userId\",\"timestamp\"], inplace=True)\n",
    "ratings"
   ]
  },
  {
   "cell_type": "code",
   "execution_count": 7,
   "metadata": {
    "metadata": {}
   },
   "outputs": [
    {
     "data": {
      "text/plain": [
       "(1518478, 15)"
      ]
     },
     "execution_count": 7,
     "metadata": {},
     "output_type": "execute_result"
    }
   ],
   "source": [
    "ratings.dropna(inplace=True)\n",
    "ratings.shape"
   ]
  },
  {
   "cell_type": "code",
   "execution_count": 8,
   "metadata": {
    "metadata": {}
   },
   "outputs": [],
   "source": [
    "ratings[\"sessionId\"] = 1"
   ]
  },
  {
   "cell_type": "code",
   "execution_count": 9,
   "metadata": {
    "metadata": {}
   },
   "outputs": [
    {
     "data": {
      "text/plain": [
       "<Axes: xlabel='datetime', ylabel='Count'>"
      ]
     },
     "execution_count": 9,
     "metadata": {},
     "output_type": "execute_result"
    },
    {
     "data": {
      "image/png": "[encoded data removed]",
      "text/plain": [
       "<Figure size 640x480 with 1 Axes>"
      ]
     },
     "metadata": {},
     "output_type": "display_data"
    }
   ],
   "source": [
    "import seaborn as sns\n",
    "sns.histplot(ratings[\"datetime\"])"
   ]
  },
  {
   "cell_type": "markdown",
   "metadata": {},
   "source": [
    "### Limit to only recent data (2008+)"
   ]
  },
  {
   "cell_type": "code",
   "execution_count": 10,
   "metadata": {
    "metadata": {}
   },
   "outputs": [
    {
     "data": {
      "text/plain": [
       "(1037331, 16)"
      ]
     },
     "execution_count": 10,
     "metadata": {},
     "output_type": "execute_result"
    }
   ],
   "source": [
    "ratings_recent = ratings.loc[ratings[\"datetime\"] >= np.datetime64('2008', 'Y')]\n",
    "ratings_recent.shape"
   ]
  },
  {
   "cell_type": "code",
   "execution_count": 11,
   "metadata": {
    "metadata": {}
   },
   "outputs": [
    {
     "data": {
      "text/plain": [
       "(39705, 26122)"
      ]
     },
     "execution_count": 11,
     "metadata": {},
     "output_type": "execute_result"
    }
   ],
   "source": [
    "len(ratings_recent.item_id.unique()),len(ratings_recent.userId.unique())"
   ]
  },
  {
   "cell_type": "code",
   "execution_count": 12,
   "metadata": {
    "metadata": {}
   },
   "outputs": [
    {
     "data": {
      "text/plain": [
       "rating\n",
       "4.0    392460\n",
       "4.5    216380\n",
       "3.5    197561\n",
       "3.0    101692\n",
       "5.0     58960\n",
       "2.5     34187\n",
       "2.0     22549\n",
       "1.5      7228\n",
       "1.0      6314\n",
       "Name: count, dtype: int64"
      ]
     },
     "execution_count": 12,
     "metadata": {},
     "output_type": "execute_result"
    }
   ],
   "source": [
    "ratings_recent[\"rating\"].value_counts()"
   ]
  },
  {
   "cell_type": "markdown",
   "metadata": {},
   "source": [
    "## Data binarization\n",
    "- ratings < 2.5 are negative (-1), ratings > 3.5 are positive (+1); remove middle ones\n",
    "- for testing, identify user-session pairs where there is at least three positive and three negative rating"
   ]
  },
  {
   "cell_type": "code",
   "execution_count": 13,
   "metadata": {
    "metadata": {}
   },
   "outputs": [
    {
     "data": {
      "text/plain": [
       "(703891, 16)"
      ]
     },
     "execution_count": 13,
     "metadata": {},
     "output_type": "execute_result"
    }
   ],
   "source": [
    "df = ratings_recent.loc[~((ratings_recent.rating >=2.5)&(ratings_recent.rating <=3.5)) ]\n",
    "df.shape"
   ]
  },
  {
   "cell_type": "code",
   "execution_count": 14,
   "metadata": {
    "metadata": {}
   },
   "outputs": [
    {
     "data": {
      "text/html": [
       "<div>\n",
       "<style scoped>\n",
       "    .dataframe tbody tr th:only-of-type {\n",
       "        vertical-align: middle;\n",
       "    }\n",
       "\n",
       "    .dataframe tbody tr th {\n",
       "        vertical-align: top;\n",
       "    }\n",
       "\n",
       "    .dataframe thead th {\n",
       "        text-align: right;\n",
       "    }\n",
       "</style>\n",
       "<table border=\"1\" class=\"dataframe\">\n",
       "  <thead>\n",
       "    <tr style=\"text-align: right;\">\n",
       "      <th></th>\n",
       "      <th>index</th>\n",
       "      <th>brewery_id</th>\n",
       "      <th>brewery_name</th>\n",
       "      <th>timestamp</th>\n",
       "      <th>rating</th>\n",
       "      <th>review_aroma</th>\n",
       "      <th>review_appearance</th>\n",
       "      <th>userId</th>\n",
       "      <th>beer_style</th>\n",
       "      <th>review_palate</th>\n",
       "      <th>review_taste</th>\n",
       "      <th>beer_name</th>\n",
       "      <th>beer_abv</th>\n",
       "      <th>item_id</th>\n",
       "      <th>datetime</th>\n",
       "      <th>sessionId</th>\n",
       "    </tr>\n",
       "  </thead>\n",
       "  <tbody>\n",
       "    <tr>\n",
       "      <th>614509</th>\n",
       "      <td>614509</td>\n",
       "      <td>199</td>\n",
       "      <td>Ballast Point Brewing Company</td>\n",
       "      <td>1205561385</td>\n",
       "      <td>1.0</td>\n",
       "      <td>4.0</td>\n",
       "      <td>3.5</td>\n",
       "      <td>0110x011</td>\n",
       "      <td>American Double / Imperial IPA</td>\n",
       "      <td>4.0</td>\n",
       "      <td>4.0</td>\n",
       "      <td>Dorado Double IPA</td>\n",
       "      <td>9.6</td>\n",
       "      <td>10386</td>\n",
       "      <td>2008-03-15 06:09:45</td>\n",
       "      <td>1</td>\n",
       "    </tr>\n",
       "    <tr>\n",
       "      <th>182729</th>\n",
       "      <td>182729</td>\n",
       "      <td>396</td>\n",
       "      <td>AleSmith Brewing Company</td>\n",
       "      <td>1205823873</td>\n",
       "      <td>1.0</td>\n",
       "      <td>5.0</td>\n",
       "      <td>4.0</td>\n",
       "      <td>0110x011</td>\n",
       "      <td>American Double / Imperial IPA</td>\n",
       "      <td>4.5</td>\n",
       "      <td>4.5</td>\n",
       "      <td>YuleSmith (Summer)</td>\n",
       "      <td>8.5</td>\n",
       "      <td>7284</td>\n",
       "      <td>2008-03-18 07:04:33</td>\n",
       "      <td>1</td>\n",
       "    </tr>\n",
       "    <tr>\n",
       "      <th>1134674</th>\n",
       "      <td>1134674</td>\n",
       "      <td>863</td>\n",
       "      <td>Russian River Brewing Company</td>\n",
       "      <td>1207011338</td>\n",
       "      <td>1.0</td>\n",
       "      <td>5.0</td>\n",
       "      <td>5.0</td>\n",
       "      <td>0110x011</td>\n",
       "      <td>American Double / Imperial IPA</td>\n",
       "      <td>4.5</td>\n",
       "      <td>4.5</td>\n",
       "      <td>Pliny The Elder</td>\n",
       "      <td>8.0</td>\n",
       "      <td>7971</td>\n",
       "      <td>2008-04-01 00:55:38</td>\n",
       "      <td>1</td>\n",
       "    </tr>\n",
       "    <tr>\n",
       "      <th>462893</th>\n",
       "      <td>462893</td>\n",
       "      <td>559</td>\n",
       "      <td>Speakeasy Ales &amp; Lagers</td>\n",
       "      <td>1207362193</td>\n",
       "      <td>1.0</td>\n",
       "      <td>4.0</td>\n",
       "      <td>4.0</td>\n",
       "      <td>0110x011</td>\n",
       "      <td>American Double / Imperial IPA</td>\n",
       "      <td>3.5</td>\n",
       "      <td>4.0</td>\n",
       "      <td>Double Daddy Imperial India Pale Ale</td>\n",
       "      <td>9.5</td>\n",
       "      <td>25283</td>\n",
       "      <td>2008-04-05 02:23:13</td>\n",
       "      <td>1</td>\n",
       "    </tr>\n",
       "    <tr>\n",
       "      <th>886485</th>\n",
       "      <td>886485</td>\n",
       "      <td>147</td>\n",
       "      <td>Stone Brewing Co.</td>\n",
       "      <td>1208211124</td>\n",
       "      <td>1.0</td>\n",
       "      <td>5.0</td>\n",
       "      <td>4.0</td>\n",
       "      <td>0110x011</td>\n",
       "      <td>American Black Ale</td>\n",
       "      <td>4.0</td>\n",
       "      <td>5.0</td>\n",
       "      <td>Stone Sublimely Self-Righteous Ale</td>\n",
       "      <td>8.7</td>\n",
       "      <td>38470</td>\n",
       "      <td>2008-04-14 22:12:04</td>\n",
       "      <td>1</td>\n",
       "    </tr>\n",
       "    <tr>\n",
       "      <th>...</th>\n",
       "      <td>...</td>\n",
       "      <td>...</td>\n",
       "      <td>...</td>\n",
       "      <td>...</td>\n",
       "      <td>...</td>\n",
       "      <td>...</td>\n",
       "      <td>...</td>\n",
       "      <td>...</td>\n",
       "      <td>...</td>\n",
       "      <td>...</td>\n",
       "      <td>...</td>\n",
       "      <td>...</td>\n",
       "      <td>...</td>\n",
       "      <td>...</td>\n",
       "      <td>...</td>\n",
       "      <td>...</td>\n",
       "    </tr>\n",
       "    <tr>\n",
       "      <th>521081</th>\n",
       "      <td>521081</td>\n",
       "      <td>113</td>\n",
       "      <td>Samuel Smith Old Brewery (Tadcaster)</td>\n",
       "      <td>1237681606</td>\n",
       "      <td>1.0</td>\n",
       "      <td>4.5</td>\n",
       "      <td>4.5</td>\n",
       "      <td>zythus</td>\n",
       "      <td>English Porter</td>\n",
       "      <td>5.0</td>\n",
       "      <td>5.0</td>\n",
       "      <td>Samuel Smith's, The Famous Taddy Porter</td>\n",
       "      <td>5.0</td>\n",
       "      <td>572</td>\n",
       "      <td>2009-03-22 00:26:46</td>\n",
       "      <td>1</td>\n",
       "    </tr>\n",
       "    <tr>\n",
       "      <th>520548</th>\n",
       "      <td>520548</td>\n",
       "      <td>113</td>\n",
       "      <td>Samuel Smith Old Brewery (Tadcaster)</td>\n",
       "      <td>1242257696</td>\n",
       "      <td>1.0</td>\n",
       "      <td>5.0</td>\n",
       "      <td>5.0</td>\n",
       "      <td>zythus</td>\n",
       "      <td>Euro Pale Lager</td>\n",
       "      <td>5.0</td>\n",
       "      <td>5.0</td>\n",
       "      <td>Samuel Smith's Pure Brewed Lager Beer</td>\n",
       "      <td>5.0</td>\n",
       "      <td>574</td>\n",
       "      <td>2009-05-13 23:34:56</td>\n",
       "      <td>1</td>\n",
       "    </tr>\n",
       "    <tr>\n",
       "      <th>516121</th>\n",
       "      <td>516121</td>\n",
       "      <td>113</td>\n",
       "      <td>Samuel Smith Old Brewery (Tadcaster)</td>\n",
       "      <td>1243812668</td>\n",
       "      <td>1.0</td>\n",
       "      <td>4.0</td>\n",
       "      <td>4.5</td>\n",
       "      <td>zythus</td>\n",
       "      <td>English Brown Ale</td>\n",
       "      <td>5.0</td>\n",
       "      <td>4.5</td>\n",
       "      <td>Samuel Smith's Nut Brown Ale</td>\n",
       "      <td>5.0</td>\n",
       "      <td>576</td>\n",
       "      <td>2009-05-31 23:31:08</td>\n",
       "      <td>1</td>\n",
       "    </tr>\n",
       "    <tr>\n",
       "      <th>1486864</th>\n",
       "      <td>1486864</td>\n",
       "      <td>23980</td>\n",
       "      <td>Yuengling Brewery</td>\n",
       "      <td>1267120909</td>\n",
       "      <td>1.0</td>\n",
       "      <td>4.0</td>\n",
       "      <td>4.0</td>\n",
       "      <td>zythus</td>\n",
       "      <td>Bock</td>\n",
       "      <td>4.5</td>\n",
       "      <td>4.0</td>\n",
       "      <td>Yuengling Bock</td>\n",
       "      <td>5.1</td>\n",
       "      <td>47812</td>\n",
       "      <td>2010-02-25 18:01:49</td>\n",
       "      <td>1</td>\n",
       "    </tr>\n",
       "    <tr>\n",
       "      <th>1373610</th>\n",
       "      <td>1373610</td>\n",
       "      <td>721</td>\n",
       "      <td>Carlsberg Danmark A/S</td>\n",
       "      <td>1258125902</td>\n",
       "      <td>1.0</td>\n",
       "      <td>5.0</td>\n",
       "      <td>5.0</td>\n",
       "      <td>zzajjber</td>\n",
       "      <td>Euro Pale Lager</td>\n",
       "      <td>5.0</td>\n",
       "      <td>5.0</td>\n",
       "      <td>Carlsberg Beer</td>\n",
       "      <td>5.0</td>\n",
       "      <td>2270</td>\n",
       "      <td>2009-11-13 15:25:02</td>\n",
       "      <td>1</td>\n",
       "    </tr>\n",
       "  </tbody>\n",
       "</table>\n",
       "<p>703891 rows × 16 columns</p>\n",
       "</div>"
      ],
      "text/plain": [
       "           index  brewery_id                          brewery_name  \\\n",
       "614509    614509         199         Ballast Point Brewing Company   \n",
       "182729    182729         396              AleSmith Brewing Company   \n",
       "1134674  1134674         863         Russian River Brewing Company   \n",
       "462893    462893         559               Speakeasy Ales & Lagers   \n",
       "886485    886485         147                     Stone Brewing Co.   \n",
       "...          ...         ...                                   ...   \n",
       "521081    521081         113  Samuel Smith Old Brewery (Tadcaster)   \n",
       "520548    520548         113  Samuel Smith Old Brewery (Tadcaster)   \n",
       "516121    516121         113  Samuel Smith Old Brewery (Tadcaster)   \n",
       "1486864  1486864       23980                    Yuengling Brewery    \n",
       "1373610  1373610         721                 Carlsberg Danmark A/S   \n",
       "\n",
       "          timestamp  rating  review_aroma  review_appearance    userId  \\\n",
       "614509   1205561385     1.0           4.0                3.5  0110x011   \n",
       "182729   1205823873     1.0           5.0                4.0  0110x011   \n",
       "1134674  1207011338     1.0           5.0                5.0  0110x011   \n",
       "462893   1207362193     1.0           4.0                4.0  0110x011   \n",
       "886485   1208211124     1.0           5.0                4.0  0110x011   \n",
       "...             ...     ...           ...                ...       ...   \n",
       "521081   1237681606     1.0           4.5                4.5    zythus   \n",
       "520548   1242257696     1.0           5.0                5.0    zythus   \n",
       "516121   1243812668     1.0           4.0                4.5    zythus   \n",
       "1486864  1267120909     1.0           4.0                4.0    zythus   \n",
       "1373610  1258125902     1.0           5.0                5.0  zzajjber   \n",
       "\n",
       "                             beer_style  review_palate  review_taste  \\\n",
       "614509   American Double / Imperial IPA            4.0           4.0   \n",
       "182729   American Double / Imperial IPA            4.5           4.5   \n",
       "1134674  American Double / Imperial IPA            4.5           4.5   \n",
       "462893   American Double / Imperial IPA            3.5           4.0   \n",
       "886485               American Black Ale            4.0           5.0   \n",
       "...                                 ...            ...           ...   \n",
       "521081                   English Porter            5.0           5.0   \n",
       "520548                  Euro Pale Lager            5.0           5.0   \n",
       "516121                English Brown Ale            5.0           4.5   \n",
       "1486864                            Bock            4.5           4.0   \n",
       "1373610                 Euro Pale Lager            5.0           5.0   \n",
       "\n",
       "                                       beer_name  beer_abv  item_id  \\\n",
       "614509                         Dorado Double IPA       9.6    10386   \n",
       "182729                        YuleSmith (Summer)       8.5     7284   \n",
       "1134674                          Pliny The Elder       8.0     7971   \n",
       "462893      Double Daddy Imperial India Pale Ale       9.5    25283   \n",
       "886485        Stone Sublimely Self-Righteous Ale       8.7    38470   \n",
       "...                                          ...       ...      ...   \n",
       "521081   Samuel Smith's, The Famous Taddy Porter       5.0      572   \n",
       "520548     Samuel Smith's Pure Brewed Lager Beer       5.0      574   \n",
       "516121              Samuel Smith's Nut Brown Ale       5.0      576   \n",
       "1486864                           Yuengling Bock       5.1    47812   \n",
       "1373610                           Carlsberg Beer       5.0     2270   \n",
       "\n",
       "                   datetime  sessionId  \n",
       "614509  2008-03-15 06:09:45          1  \n",
       "182729  2008-03-18 07:04:33          1  \n",
       "1134674 2008-04-01 00:55:38          1  \n",
       "462893  2008-04-05 02:23:13          1  \n",
       "886485  2008-04-14 22:12:04          1  \n",
       "...                     ...        ...  \n",
       "521081  2009-03-22 00:26:46          1  \n",
       "520548  2009-05-13 23:34:56          1  \n",
       "516121  2009-05-31 23:31:08          1  \n",
       "1486864 2010-02-25 18:01:49          1  \n",
       "1373610 2009-11-13 15:25:02          1  \n",
       "\n",
       "[703891 rows x 16 columns]"
      ]
     },
     "execution_count": 14,
     "metadata": {},
     "output_type": "execute_result"
    }
   ],
   "source": [
    "df.loc[df.rating <2.5,\"rating\"] = -1\n",
    "df.loc[df.rating >3.5,\"rating\"] = 1\n",
    "df"
   ]
  },
  {
   "cell_type": "code",
   "execution_count": 15,
   "metadata": {
    "metadata": {}
   },
   "outputs": [],
   "source": [
    "# create a user_session identifier\n",
    "df = df.copy()\n",
    "df['user_session_id'] = df['userId'].astype(str) + '_' + df['sessionId'].astype(str)\n",
    "df = df.sort_values(by=['user_session_id', 'timestamp'])"
   ]
  },
  {
   "cell_type": "markdown",
   "metadata": {},
   "source": [
    "### Define sessions suitable for testing"
   ]
  },
  {
   "cell_type": "code",
   "execution_count": 16,
   "metadata": {
    "metadata": {}
   },
   "outputs": [
    {
     "data": {
      "text/html": [
       "<div>\n",
       "<style scoped>\n",
       "    .dataframe tbody tr th:only-of-type {\n",
       "        vertical-align: middle;\n",
       "    }\n",
       "\n",
       "    .dataframe tbody tr th {\n",
       "        vertical-align: top;\n",
       "    }\n",
       "\n",
       "    .dataframe thead th {\n",
       "        text-align: right;\n",
       "    }\n",
       "</style>\n",
       "<table border=\"1\" class=\"dataframe\">\n",
       "  <thead>\n",
       "    <tr style=\"text-align: right;\">\n",
       "      <th></th>\n",
       "      <th>user_session_id</th>\n",
       "      <th>userId</th>\n",
       "      <th>ratingsCount</th>\n",
       "      <th>positiveCount</th>\n",
       "      <th>negativeCount</th>\n",
       "    </tr>\n",
       "  </thead>\n",
       "  <tbody>\n",
       "    <tr>\n",
       "      <th>0</th>\n",
       "      <td>0110x011_1</td>\n",
       "      <td>0110x011</td>\n",
       "      <td>115</td>\n",
       "      <td>112</td>\n",
       "      <td>3</td>\n",
       "    </tr>\n",
       "    <tr>\n",
       "      <th>1</th>\n",
       "      <td>01Ryan10_1</td>\n",
       "      <td>01Ryan10</td>\n",
       "      <td>1</td>\n",
       "      <td>1</td>\n",
       "      <td>0</td>\n",
       "    </tr>\n",
       "    <tr>\n",
       "      <th>2</th>\n",
       "      <td>02maxima_1</td>\n",
       "      <td>02maxima</td>\n",
       "      <td>3</td>\n",
       "      <td>3</td>\n",
       "      <td>0</td>\n",
       "    </tr>\n",
       "    <tr>\n",
       "      <th>3</th>\n",
       "      <td>04101Brewer_1</td>\n",
       "      <td>04101Brewer</td>\n",
       "      <td>2</td>\n",
       "      <td>2</td>\n",
       "      <td>0</td>\n",
       "    </tr>\n",
       "    <tr>\n",
       "      <th>4</th>\n",
       "      <td>05Harley_1</td>\n",
       "      <td>05Harley</td>\n",
       "      <td>128</td>\n",
       "      <td>128</td>\n",
       "      <td>0</td>\n",
       "    </tr>\n",
       "    <tr>\n",
       "      <th>...</th>\n",
       "      <td>...</td>\n",
       "      <td>...</td>\n",
       "      <td>...</td>\n",
       "      <td>...</td>\n",
       "      <td>...</td>\n",
       "    </tr>\n",
       "    <tr>\n",
       "      <th>24569</th>\n",
       "      <td>zymrgy_1</td>\n",
       "      <td>zymrgy</td>\n",
       "      <td>3</td>\n",
       "      <td>3</td>\n",
       "      <td>0</td>\n",
       "    </tr>\n",
       "    <tr>\n",
       "      <th>24570</th>\n",
       "      <td>zymurgy4all_1</td>\n",
       "      <td>zymurgy4all</td>\n",
       "      <td>21</td>\n",
       "      <td>21</td>\n",
       "      <td>0</td>\n",
       "    </tr>\n",
       "    <tr>\n",
       "      <th>24571</th>\n",
       "      <td>zymurgywhiz_1</td>\n",
       "      <td>zymurgywhiz</td>\n",
       "      <td>2</td>\n",
       "      <td>2</td>\n",
       "      <td>0</td>\n",
       "    </tr>\n",
       "    <tr>\n",
       "      <th>24572</th>\n",
       "      <td>zythus_1</td>\n",
       "      <td>zythus</td>\n",
       "      <td>6</td>\n",
       "      <td>6</td>\n",
       "      <td>0</td>\n",
       "    </tr>\n",
       "    <tr>\n",
       "      <th>24573</th>\n",
       "      <td>zzajjber_1</td>\n",
       "      <td>zzajjber</td>\n",
       "      <td>1</td>\n",
       "      <td>1</td>\n",
       "      <td>0</td>\n",
       "    </tr>\n",
       "  </tbody>\n",
       "</table>\n",
       "<p>24574 rows × 5 columns</p>\n",
       "</div>"
      ],
      "text/plain": [
       "      user_session_id       userId  ratingsCount  positiveCount  negativeCount\n",
       "0          0110x011_1     0110x011           115            112              3\n",
       "1          01Ryan10_1     01Ryan10             1              1              0\n",
       "2          02maxima_1     02maxima             3              3              0\n",
       "3       04101Brewer_1  04101Brewer             2              2              0\n",
       "4          05Harley_1     05Harley           128            128              0\n",
       "...               ...          ...           ...            ...            ...\n",
       "24569        zymrgy_1       zymrgy             3              3              0\n",
       "24570   zymurgy4all_1  zymurgy4all            21             21              0\n",
       "24571   zymurgywhiz_1  zymurgywhiz             2              2              0\n",
       "24572        zythus_1       zythus             6              6              0\n",
       "24573      zzajjber_1     zzajjber             1              1              0\n",
       "\n",
       "[24574 rows x 5 columns]"
      ]
     },
     "execution_count": 16,
     "metadata": {},
     "output_type": "execute_result"
    }
   ],
   "source": [
    "testable_sessions = df.groupby('user_session_id').agg({\"userId\": \"first\", \"rating\": \"count\"}).rename(columns={\"rating\": \"ratingsCount\"}).reset_index()\n",
    "testable_sessions[\"positiveCount\"] = 0\n",
    "positive_counts = df[df.rating == 1.].groupby('user_session_id').rating.count()\n",
    "testable_sessions.loc[testable_sessions[\"user_session_id\"].isin(positive_counts.index) ,\"positiveCount\"] = testable_sessions.loc[testable_sessions[\"user_session_id\"].isin(positive_counts.index) ,\"user_session_id\"].apply(lambda x: positive_counts[x])\n",
    "testable_sessions[\"negativeCount\"] = testable_sessions[\"ratingsCount\"] - testable_sessions[\"positiveCount\"]\n",
    "\n",
    "testable_sessions"
   ]
  },
  {
   "cell_type": "code",
   "execution_count": 17,
   "metadata": {
    "metadata": {}
   },
   "outputs": [
    {
     "name": "stdout",
     "output_type": "stream",
     "text": [
      "24574\n",
      "2517\n"
     ]
    }
   ],
   "source": [
    "print(len(testable_sessions))\n",
    "# we need at least 3 positive interactions and 3 negative interactions\n",
    "testable_sessions = testable_sessions[(testable_sessions.positiveCount >= 3) & (testable_sessions.negativeCount >= 3)]\n",
    "print(len(testable_sessions))"
   ]
  },
  {
   "cell_type": "markdown",
   "metadata": {},
   "source": [
    "### Distinguish between validation and test sessions"
   ]
  },
  {
   "cell_type": "code",
   "execution_count": 18,
   "metadata": {
    "metadata": {}
   },
   "outputs": [],
   "source": [
    "# shuffle rows\n",
    "testable_sessions = testable_sessions.sample(frac=1, random_state=SEED).reset_index(drop=True)\n",
    "# add sessions randomly to validation set (0) or one of five CV splits (1-5)\n",
    "testable_sessions[\"split\"] = testable_sessions.index.values\n",
    "\n",
    "split_number_to_string = {\n",
    "    0: \"val\",  # 25% of sessions are validation\n",
    "    1: \"test\",\n",
    "    2: \"test\",\n",
    "    3: \"test\",\n",
    "}\n",
    "\n",
    "testable_sessions[\"split\"] = testable_sessions[\"split\"].apply(lambda x: x % 4).apply(lambda x: split_number_to_string[x])"
   ]
  },
  {
   "cell_type": "code",
   "execution_count": 19,
   "metadata": {
    "metadata": {}
   },
   "outputs": [
    {
     "data": {
      "text/html": [
       "<div>\n",
       "<style scoped>\n",
       "    .dataframe tbody tr th:only-of-type {\n",
       "        vertical-align: middle;\n",
       "    }\n",
       "\n",
       "    .dataframe tbody tr th {\n",
       "        vertical-align: top;\n",
       "    }\n",
       "\n",
       "    .dataframe thead th {\n",
       "        text-align: right;\n",
       "    }\n",
       "</style>\n",
       "<table border=\"1\" class=\"dataframe\">\n",
       "  <thead>\n",
       "    <tr style=\"text-align: right;\">\n",
       "      <th></th>\n",
       "      <th>user_session_id</th>\n",
       "      <th>userId</th>\n",
       "      <th>ratingsCount</th>\n",
       "      <th>positiveCount</th>\n",
       "      <th>negativeCount</th>\n",
       "      <th>split</th>\n",
       "    </tr>\n",
       "  </thead>\n",
       "  <tbody>\n",
       "    <tr>\n",
       "      <th>0</th>\n",
       "      <td>Ragingbull_1</td>\n",
       "      <td>Ragingbull</td>\n",
       "      <td>147</td>\n",
       "      <td>138</td>\n",
       "      <td>9</td>\n",
       "      <td>val</td>\n",
       "    </tr>\n",
       "    <tr>\n",
       "      <th>1</th>\n",
       "      <td>argock_1</td>\n",
       "      <td>argock</td>\n",
       "      <td>730</td>\n",
       "      <td>721</td>\n",
       "      <td>9</td>\n",
       "      <td>test</td>\n",
       "    </tr>\n",
       "    <tr>\n",
       "      <th>2</th>\n",
       "      <td>StormKing47_1</td>\n",
       "      <td>StormKing47</td>\n",
       "      <td>56</td>\n",
       "      <td>53</td>\n",
       "      <td>3</td>\n",
       "      <td>test</td>\n",
       "    </tr>\n",
       "    <tr>\n",
       "      <th>3</th>\n",
       "      <td>OzarkElmo_1</td>\n",
       "      <td>OzarkElmo</td>\n",
       "      <td>92</td>\n",
       "      <td>87</td>\n",
       "      <td>5</td>\n",
       "      <td>test</td>\n",
       "    </tr>\n",
       "    <tr>\n",
       "      <th>4</th>\n",
       "      <td>1759Girl_1</td>\n",
       "      <td>1759Girl</td>\n",
       "      <td>125</td>\n",
       "      <td>114</td>\n",
       "      <td>11</td>\n",
       "      <td>val</td>\n",
       "    </tr>\n",
       "    <tr>\n",
       "      <th>...</th>\n",
       "      <td>...</td>\n",
       "      <td>...</td>\n",
       "      <td>...</td>\n",
       "      <td>...</td>\n",
       "      <td>...</td>\n",
       "      <td>...</td>\n",
       "    </tr>\n",
       "    <tr>\n",
       "      <th>2512</th>\n",
       "      <td>richkrull_1</td>\n",
       "      <td>richkrull</td>\n",
       "      <td>217</td>\n",
       "      <td>202</td>\n",
       "      <td>15</td>\n",
       "      <td>val</td>\n",
       "    </tr>\n",
       "    <tr>\n",
       "      <th>2513</th>\n",
       "      <td>KenC411_1</td>\n",
       "      <td>KenC411</td>\n",
       "      <td>21</td>\n",
       "      <td>16</td>\n",
       "      <td>5</td>\n",
       "      <td>test</td>\n",
       "    </tr>\n",
       "    <tr>\n",
       "      <th>2514</th>\n",
       "      <td>GRG1313_1</td>\n",
       "      <td>GRG1313</td>\n",
       "      <td>414</td>\n",
       "      <td>330</td>\n",
       "      <td>84</td>\n",
       "      <td>test</td>\n",
       "    </tr>\n",
       "    <tr>\n",
       "      <th>2515</th>\n",
       "      <td>rootbeerman_1</td>\n",
       "      <td>rootbeerman</td>\n",
       "      <td>270</td>\n",
       "      <td>261</td>\n",
       "      <td>9</td>\n",
       "      <td>test</td>\n",
       "    </tr>\n",
       "    <tr>\n",
       "      <th>2516</th>\n",
       "      <td>JOaikido_1</td>\n",
       "      <td>JOaikido</td>\n",
       "      <td>26</td>\n",
       "      <td>23</td>\n",
       "      <td>3</td>\n",
       "      <td>val</td>\n",
       "    </tr>\n",
       "  </tbody>\n",
       "</table>\n",
       "<p>2517 rows × 6 columns</p>\n",
       "</div>"
      ],
      "text/plain": [
       "     user_session_id       userId  ratingsCount  positiveCount  negativeCount  \\\n",
       "0       Ragingbull_1   Ragingbull           147            138              9   \n",
       "1           argock_1       argock           730            721              9   \n",
       "2      StormKing47_1  StormKing47            56             53              3   \n",
       "3        OzarkElmo_1    OzarkElmo            92             87              5   \n",
       "4         1759Girl_1     1759Girl           125            114             11   \n",
       "...              ...          ...           ...            ...            ...   \n",
       "2512     richkrull_1    richkrull           217            202             15   \n",
       "2513       KenC411_1      KenC411            21             16              5   \n",
       "2514       GRG1313_1      GRG1313           414            330             84   \n",
       "2515   rootbeerman_1  rootbeerman           270            261              9   \n",
       "2516      JOaikido_1     JOaikido            26             23              3   \n",
       "\n",
       "     split  \n",
       "0      val  \n",
       "1     test  \n",
       "2     test  \n",
       "3     test  \n",
       "4      val  \n",
       "...    ...  \n",
       "2512   val  \n",
       "2513  test  \n",
       "2514  test  \n",
       "2515  test  \n",
       "2516   val  \n",
       "\n",
       "[2517 rows x 6 columns]"
      ]
     },
     "execution_count": 19,
     "metadata": {},
     "output_type": "execute_result"
    }
   ],
   "source": [
    "testable_sessions"
   ]
  },
  {
   "cell_type": "code",
   "execution_count": 20,
   "metadata": {
    "metadata": {}
   },
   "outputs": [],
   "source": [
    "# check if every row is a unique user session\n",
    "assert len(testable_sessions) == testable_sessions.user_session_id.nunique()"
   ]
  },
  {
   "cell_type": "code",
   "execution_count": 21,
   "metadata": {
    "metadata": {}
   },
   "outputs": [
    {
     "name": "stdout",
     "output_type": "stream",
     "text": [
      "number of testable sessions in split train: 0\n",
      "number of testable sessions in split val: 630\n",
      "number of testable sessions in split test: 1887\n"
     ]
    }
   ],
   "source": [
    "for split in [\"train\", \"val\", \"test\"]:\n",
    "    print(f\"number of testable sessions in split {split}: {len(testable_sessions[testable_sessions.split == split])}\")"
   ]
  },
  {
   "cell_type": "code",
   "execution_count": 22,
   "metadata": {
    "metadata": {}
   },
   "outputs": [],
   "source": [
    "# map user_session_id to split\n",
    "user_session_id_to_split = {usid: split for usid, split in zip(testable_sessions.user_session_id.values, testable_sessions.split.values)}"
   ]
  },
  {
   "cell_type": "code",
   "execution_count": 23,
   "metadata": {
    "metadata": {}
   },
   "outputs": [],
   "source": [
    "# assign dataframe entries to split\n",
    "df[\"split\"] = df[\"user_session_id\"].apply(lambda x: user_session_id_to_split.get(x, \"train\"))"
   ]
  },
  {
   "cell_type": "markdown",
   "metadata": {},
   "source": [
    "## Downsample the training data"
   ]
  },
  {
   "cell_type": "code",
   "execution_count": 24,
   "metadata": {
    "metadata": {}
   },
   "outputs": [
    {
     "name": "stdout",
     "output_type": "stream",
     "text": [
      "count    17707.000000\n",
      "mean        13.555938\n",
      "std         47.063999\n",
      "min          1.000000\n",
      "25%          1.000000\n",
      "50%          2.000000\n",
      "75%          7.000000\n",
      "max       1251.000000\n",
      "Name: count, dtype: float64\n",
      "count    17707.000000\n",
      "mean         4.047495\n",
      "std          6.845939\n",
      "min          1.000000\n",
      "25%          1.000000\n",
      "50%          2.000000\n",
      "75%          4.000000\n",
      "max        100.000000\n",
      "Name: count, dtype: float64\n"
     ]
    },
    {
     "name": "stderr",
     "output_type": "stream",
     "text": [
      "/tmp/ipykernel_946/1933004896.py:9: DeprecationWarning: DataFrameGroupBy.apply operated on the grouping columns. This behavior is deprecated, and in a future version of pandas the grouping columns will be excluded from the operation. Either pass `include_groups=False` to exclude the groupings or explicitly select the grouping columns after groupby to silence this warning.\n",
      "  train_df = train_df.groupby('item_id', group_keys=False).apply(\n"
     ]
    }
   ],
   "source": [
    "train_df = df[df.split == \"train\"]\n",
    "eval_df = df[df.split != \"train\"]\n",
    "\n",
    "# to simulate real-world data sparsity, we subsample rows of train df in a stratified manner (per item)\n",
    "# we modify the long-tail distribution to make it sparser\n",
    "# set count x of every item to x**(2/3)\n",
    "# max count will be 100, and the distribution will be long tailed\n",
    "print(train_df.item_id.value_counts().describe())\n",
    "train_df = train_df.groupby('item_id', group_keys=False).apply(\n",
    "    lambda x: x.sample(\n",
    "        min(\n",
    "            round(len(x)**(2/3)), # at most this number\n",
    "            100,  # at most 100\n",
    "        ),\n",
    "    random_state=SEED,\n",
    "    )\n",
    ")\n",
    "print(train_df.item_id.value_counts().describe())\n",
    "# in training split, keep only interactions with (positive) rating 1\n",
    "train_df = train_df[train_df.rating == 1.]\n",
    "\n",
    "df = pd.concat([train_df, eval_df])"
   ]
  },
  {
   "cell_type": "code",
   "execution_count": 25,
   "metadata": {
    "metadata": {}
   },
   "outputs": [
    {
     "data": {
      "text/plain": [
       "(532934, 18)"
      ]
     },
     "execution_count": 25,
     "metadata": {},
     "output_type": "execute_result"
    }
   ],
   "source": [
    "df.shape"
   ]
  },
  {
   "cell_type": "code",
   "execution_count": 26,
   "metadata": {
    "metadata": {}
   },
   "outputs": [
    {
     "data": {
      "text/html": [
       "<div>\n",
       "<style scoped>\n",
       "    .dataframe tbody tr th:only-of-type {\n",
       "        vertical-align: middle;\n",
       "    }\n",
       "\n",
       "    .dataframe tbody tr th {\n",
       "        vertical-align: top;\n",
       "    }\n",
       "\n",
       "    .dataframe thead th {\n",
       "        text-align: right;\n",
       "    }\n",
       "</style>\n",
       "<table border=\"1\" class=\"dataframe\">\n",
       "  <thead>\n",
       "    <tr style=\"text-align: right;\">\n",
       "      <th></th>\n",
       "      <th>index</th>\n",
       "    </tr>\n",
       "    <tr>\n",
       "      <th>split</th>\n",
       "      <th></th>\n",
       "    </tr>\n",
       "  </thead>\n",
       "  <tbody>\n",
       "    <tr>\n",
       "      <th>test</th>\n",
       "      <td>349533</td>\n",
       "    </tr>\n",
       "    <tr>\n",
       "      <th>train</th>\n",
       "      <td>69078</td>\n",
       "    </tr>\n",
       "    <tr>\n",
       "      <th>val</th>\n",
       "      <td>114323</td>\n",
       "    </tr>\n",
       "  </tbody>\n",
       "</table>\n",
       "</div>"
      ],
      "text/plain": [
       "        index\n",
       "split        \n",
       "test   349533\n",
       "train   69078\n",
       "val    114323"
      ]
     },
     "execution_count": 26,
     "metadata": {},
     "output_type": "execute_result"
    }
   ],
   "source": [
    "df.groupby(\"split\")[[\"index\"]].count()"
   ]
  },
  {
   "cell_type": "markdown",
   "metadata": {},
   "source": [
    "## Save processed dataset"
   ]
  },
  {
   "cell_type": "code",
   "execution_count": 27,
   "metadata": {
    "metadata": {}
   },
   "outputs": [],
   "source": [
    "df.to_csv(DATA_FOLDER + \"ratings_processed_BeerAdvocate.csv\", index=False)"
   ]
  }
 ],
 "metadata": {
  "kernelspec": {
   "display_name": "Python 3",
   "language": "python",
   "name": "python3"
  },
  "language_info": {
   "codemirror_mode": {
    "name": "ipython",
    "version": 3
   },
   "file_extension": ".py",
   "mimetype": "text/x-python",
   "name": "python",
   "nbconvert_exporter": "python",
   "pygments_lexer": "ipython3",
   "version": "3.10.14"
  }
 },
 "nbformat": 4,
 "nbformat_minor": 4
}
