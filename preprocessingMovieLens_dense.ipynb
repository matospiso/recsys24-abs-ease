{
 "cells": [
  {
   "cell_type": "code",
   "execution_count": 1,
   "metadata": {
    "metadata": {}
   },
   "outputs": [],
   "source": [
    "import numpy as np\n",
    "import pandas as pd\n",
    "\n",
    "SEED = 12345\n",
    "np.random.seed(SEED)"
   ]
  },
  {
   "cell_type": "markdown",
   "metadata": {},
   "source": [
    "# Load original dataset\n",
    "- dataset can be obtained from https://grouplens.org/datasets/movielens/25m/\n",
    "- place `ratings.csv` in `./data/` folder"
   ]
  },
  {
   "cell_type": "code",
   "execution_count": 2,
   "metadata": {
    "collapsed": false,
    "metadata": {}
   },
   "outputs": [],
   "source": [
    "DATA_FOLDER = \"./data/\""
   ]
  },
  {
   "cell_type": "code",
   "execution_count": 3,
   "metadata": {
    "metadata": {}
   },
   "outputs": [],
   "source": [
    "ratings = pd.read_csv(DATA_FOLDER + \"ratings.csv\")"
   ]
  },
  {
   "cell_type": "code",
   "execution_count": 4,
   "metadata": {
    "metadata": {}
   },
   "outputs": [
    {
     "data": {
      "text/html": [
       "<div>\n",
       "<style scoped>\n",
       "    .dataframe tbody tr th:only-of-type {\n",
       "        vertical-align: middle;\n",
       "    }\n",
       "\n",
       "    .dataframe tbody tr th {\n",
       "        vertical-align: top;\n",
       "    }\n",
       "\n",
       "    .dataframe thead th {\n",
       "        text-align: right;\n",
       "    }\n",
       "</style>\n",
       "<table border=\"1\" class=\"dataframe\">\n",
       "  <thead>\n",
       "    <tr style=\"text-align: right;\">\n",
       "      <th></th>\n",
       "      <th>userId</th>\n",
       "      <th>movieId</th>\n",
       "      <th>rating</th>\n",
       "      <th>timestamp</th>\n",
       "    </tr>\n",
       "  </thead>\n",
       "  <tbody>\n",
       "    <tr>\n",
       "      <th>0</th>\n",
       "      <td>1</td>\n",
       "      <td>296</td>\n",
       "      <td>5.0</td>\n",
       "      <td>1147880044</td>\n",
       "    </tr>\n",
       "    <tr>\n",
       "      <th>1</th>\n",
       "      <td>1</td>\n",
       "      <td>306</td>\n",
       "      <td>3.5</td>\n",
       "      <td>1147868817</td>\n",
       "    </tr>\n",
       "    <tr>\n",
       "      <th>2</th>\n",
       "      <td>1</td>\n",
       "      <td>307</td>\n",
       "      <td>5.0</td>\n",
       "      <td>1147868828</td>\n",
       "    </tr>\n",
       "    <tr>\n",
       "      <th>3</th>\n",
       "      <td>1</td>\n",
       "      <td>665</td>\n",
       "      <td>5.0</td>\n",
       "      <td>1147878820</td>\n",
       "    </tr>\n",
       "    <tr>\n",
       "      <th>4</th>\n",
       "      <td>1</td>\n",
       "      <td>899</td>\n",
       "      <td>3.5</td>\n",
       "      <td>1147868510</td>\n",
       "    </tr>\n",
       "  </tbody>\n",
       "</table>\n",
       "</div>"
      ],
      "text/plain": [
       "   userId  movieId  rating   timestamp\n",
       "0       1      296     5.0  1147880044\n",
       "1       1      306     3.5  1147868817\n",
       "2       1      307     5.0  1147868828\n",
       "3       1      665     5.0  1147878820\n",
       "4       1      899     3.5  1147868510"
      ]
     },
     "execution_count": 4,
     "metadata": {},
     "output_type": "execute_result"
    }
   ],
   "source": [
    "ratings.head()"
   ]
  },
  {
   "cell_type": "code",
   "execution_count": 5,
   "metadata": {
    "metadata": {}
   },
   "outputs": [],
   "source": [
    "ratings[\"datetime\"] = pd.to_datetime(ratings[\"timestamp\"], unit = \"s\")"
   ]
  },
  {
   "cell_type": "markdown",
   "metadata": {
    "collapsed": false
   },
   "source": [
    "- rename `movieId` to `item_id`"
   ]
  },
  {
   "cell_type": "code",
   "execution_count": 6,
   "metadata": {
    "metadata": {}
   },
   "outputs": [],
   "source": [
    "ratings = ratings.rename(columns={\"movieId\": \"item_id\"})"
   ]
  },
  {
   "cell_type": "code",
   "execution_count": 7,
   "metadata": {
    "metadata": {}
   },
   "outputs": [
    {
     "data": {
      "text/html": [
       "<div>\n",
       "<style scoped>\n",
       "    .dataframe tbody tr th:only-of-type {\n",
       "        vertical-align: middle;\n",
       "    }\n",
       "\n",
       "    .dataframe tbody tr th {\n",
       "        vertical-align: top;\n",
       "    }\n",
       "\n",
       "    .dataframe thead th {\n",
       "        text-align: right;\n",
       "    }\n",
       "</style>\n",
       "<table border=\"1\" class=\"dataframe\">\n",
       "  <thead>\n",
       "    <tr style=\"text-align: right;\">\n",
       "      <th></th>\n",
       "      <th>userId</th>\n",
       "      <th>item_id</th>\n",
       "      <th>rating</th>\n",
       "      <th>timestamp</th>\n",
       "      <th>datetime</th>\n",
       "    </tr>\n",
       "  </thead>\n",
       "  <tbody>\n",
       "    <tr>\n",
       "      <th>36</th>\n",
       "      <td>1</td>\n",
       "      <td>5952</td>\n",
       "      <td>4.0</td>\n",
       "      <td>1147868053</td>\n",
       "      <td>2006-05-17 12:14:13</td>\n",
       "    </tr>\n",
       "    <tr>\n",
       "      <th>13</th>\n",
       "      <td>1</td>\n",
       "      <td>2012</td>\n",
       "      <td>2.5</td>\n",
       "      <td>1147868068</td>\n",
       "      <td>2006-05-17 12:14:28</td>\n",
       "    </tr>\n",
       "    <tr>\n",
       "      <th>12</th>\n",
       "      <td>1</td>\n",
       "      <td>2011</td>\n",
       "      <td>2.5</td>\n",
       "      <td>1147868079</td>\n",
       "      <td>2006-05-17 12:14:39</td>\n",
       "    </tr>\n",
       "    <tr>\n",
       "      <th>11</th>\n",
       "      <td>1</td>\n",
       "      <td>1653</td>\n",
       "      <td>4.0</td>\n",
       "      <td>1147868097</td>\n",
       "      <td>2006-05-17 12:14:57</td>\n",
       "    </tr>\n",
       "    <tr>\n",
       "      <th>9</th>\n",
       "      <td>1</td>\n",
       "      <td>1250</td>\n",
       "      <td>4.0</td>\n",
       "      <td>1147868414</td>\n",
       "      <td>2006-05-17 12:20:14</td>\n",
       "    </tr>\n",
       "    <tr>\n",
       "      <th>...</th>\n",
       "      <td>...</td>\n",
       "      <td>...</td>\n",
       "      <td>...</td>\n",
       "      <td>...</td>\n",
       "      <td>...</td>\n",
       "    </tr>\n",
       "    <tr>\n",
       "      <th>24999971</th>\n",
       "      <td>162541</td>\n",
       "      <td>1259</td>\n",
       "      <td>4.5</td>\n",
       "      <td>1240953609</td>\n",
       "      <td>2009-04-28 21:20:09</td>\n",
       "    </tr>\n",
       "    <tr>\n",
       "      <th>24999972</th>\n",
       "      <td>162541</td>\n",
       "      <td>1266</td>\n",
       "      <td>5.0</td>\n",
       "      <td>1240953613</td>\n",
       "      <td>2009-04-28 21:20:13</td>\n",
       "    </tr>\n",
       "    <tr>\n",
       "      <th>24999982</th>\n",
       "      <td>162541</td>\n",
       "      <td>1556</td>\n",
       "      <td>1.0</td>\n",
       "      <td>1240953650</td>\n",
       "      <td>2009-04-28 21:20:50</td>\n",
       "    </tr>\n",
       "    <tr>\n",
       "      <th>24999925</th>\n",
       "      <td>162541</td>\n",
       "      <td>293</td>\n",
       "      <td>4.0</td>\n",
       "      <td>1240953789</td>\n",
       "      <td>2009-04-28 21:23:09</td>\n",
       "    </tr>\n",
       "    <tr>\n",
       "      <th>24999961</th>\n",
       "      <td>162541</td>\n",
       "      <td>1201</td>\n",
       "      <td>3.0</td>\n",
       "      <td>1240953800</td>\n",
       "      <td>2009-04-28 21:23:20</td>\n",
       "    </tr>\n",
       "  </tbody>\n",
       "</table>\n",
       "<p>25000095 rows × 5 columns</p>\n",
       "</div>"
      ],
      "text/plain": [
       "          userId  item_id  rating   timestamp            datetime\n",
       "36             1     5952     4.0  1147868053 2006-05-17 12:14:13\n",
       "13             1     2012     2.5  1147868068 2006-05-17 12:14:28\n",
       "12             1     2011     2.5  1147868079 2006-05-17 12:14:39\n",
       "11             1     1653     4.0  1147868097 2006-05-17 12:14:57\n",
       "9              1     1250     4.0  1147868414 2006-05-17 12:20:14\n",
       "...          ...      ...     ...         ...                 ...\n",
       "24999971  162541     1259     4.5  1240953609 2009-04-28 21:20:09\n",
       "24999972  162541     1266     5.0  1240953613 2009-04-28 21:20:13\n",
       "24999982  162541     1556     1.0  1240953650 2009-04-28 21:20:50\n",
       "24999925  162541      293     4.0  1240953789 2009-04-28 21:23:09\n",
       "24999961  162541     1201     3.0  1240953800 2009-04-28 21:23:20\n",
       "\n",
       "[25000095 rows x 5 columns]"
      ]
     },
     "execution_count": 7,
     "metadata": {},
     "output_type": "execute_result"
    }
   ],
   "source": [
    "ratings.sort_values([\"userId\",\"timestamp\"], inplace=True)\n",
    "ratings"
   ]
  },
  {
   "cell_type": "code",
   "execution_count": null,
   "metadata": {},
   "outputs": [],
   "source": [
    "ratings[\"sessionId\"] = 1"
   ]
  },
  {
   "cell_type": "code",
   "execution_count": null,
   "metadata": {},
   "outputs": [],
   "source": [
    "import seaborn as sns\n",
    "sns.histplot(ratings[\"datetime\"])"
   ]
  },
  {
   "cell_type": "markdown",
   "metadata": {},
   "source": [
    "### Limit to only recent data (2015+)"
   ]
  },
  {
   "cell_type": "code",
   "execution_count": 10,
   "metadata": {
    "metadata": {}
   },
   "outputs": [
    {
     "data": {
      "text/plain": [
       "(7563741, 6)"
      ]
     },
     "execution_count": 10,
     "metadata": {},
     "output_type": "execute_result"
    }
   ],
   "source": [
    "ratings_recent = ratings.loc[ratings[\"datetime\"] >= np.datetime64('2015', 'Y')]\n",
    "ratings_recent.shape"
   ]
  },
  {
   "cell_type": "code",
   "execution_count": 11,
   "metadata": {
    "metadata": {}
   },
   "outputs": [
    {
     "data": {
      "text/plain": [
       "(58133, 45450)"
      ]
     },
     "execution_count": 11,
     "metadata": {},
     "output_type": "execute_result"
    }
   ],
   "source": [
    "len(ratings_recent.item_id.unique()),len(ratings_recent.userId.unique())"
   ]
  },
  {
   "cell_type": "markdown",
   "metadata": {},
   "source": [
    "## Data binarization\n",
    "- ratings < 2.5 are negative (-1), ratings > 3.5 are positive (+1); remove middle ones\n",
    "- for testing, identify user-session pairs where there is at least three positive and three negative rating"
   ]
  },
  {
   "cell_type": "code",
   "execution_count": 16,
   "metadata": {
    "metadata": {}
   },
   "outputs": [
    {
     "data": {
      "text/plain": [
       "(4644545, 6)"
      ]
     },
     "execution_count": 16,
     "metadata": {},
     "output_type": "execute_result"
    }
   ],
   "source": [
    "df = ratings_recent.loc[~((ratings_recent.rating >=2.5)&(ratings_recent.rating <=3.5)) ]\n",
    "df.shape"
   ]
  },
  {
   "cell_type": "code",
   "execution_count": 17,
   "metadata": {
    "metadata": {}
   },
   "outputs": [
    {
     "data": {
      "text/html": [
       "<div>\n",
       "<style scoped>\n",
       "    .dataframe tbody tr th:only-of-type {\n",
       "        vertical-align: middle;\n",
       "    }\n",
       "\n",
       "    .dataframe tbody tr th {\n",
       "        vertical-align: top;\n",
       "    }\n",
       "\n",
       "    .dataframe thead th {\n",
       "        text-align: right;\n",
       "    }\n",
       "</style>\n",
       "<table border=\"1\" class=\"dataframe\">\n",
       "  <thead>\n",
       "    <tr style=\"text-align: right;\">\n",
       "      <th></th>\n",
       "      <th>userId</th>\n",
       "      <th>item_id</th>\n",
       "      <th>rating</th>\n",
       "      <th>timestamp</th>\n",
       "      <th>datetime</th>\n",
       "      <th>sessionId</th>\n",
       "    </tr>\n",
       "  </thead>\n",
       "  <tbody>\n",
       "    <tr>\n",
       "      <th>266</th>\n",
       "      <td>3</td>\n",
       "      <td>356</td>\n",
       "      <td>1.0</td>\n",
       "      <td>1439472199</td>\n",
       "      <td>2015-08-13 13:23:19</td>\n",
       "      <td>1</td>\n",
       "    </tr>\n",
       "    <tr>\n",
       "      <th>272</th>\n",
       "      <td>3</td>\n",
       "      <td>593</td>\n",
       "      <td>1.0</td>\n",
       "      <td>1439472203</td>\n",
       "      <td>2015-08-13 13:23:23</td>\n",
       "      <td>1</td>\n",
       "    </tr>\n",
       "    <tr>\n",
       "      <th>254</th>\n",
       "      <td>3</td>\n",
       "      <td>1</td>\n",
       "      <td>1.0</td>\n",
       "      <td>1439472215</td>\n",
       "      <td>2015-08-13 13:23:35</td>\n",
       "      <td>1</td>\n",
       "    </tr>\n",
       "    <tr>\n",
       "      <th>268</th>\n",
       "      <td>3</td>\n",
       "      <td>480</td>\n",
       "      <td>-1.0</td>\n",
       "      <td>1439472219</td>\n",
       "      <td>2015-08-13 13:23:39</td>\n",
       "      <td>1</td>\n",
       "    </tr>\n",
       "    <tr>\n",
       "      <th>317</th>\n",
       "      <td>3</td>\n",
       "      <td>2571</td>\n",
       "      <td>1.0</td>\n",
       "      <td>1439472221</td>\n",
       "      <td>2015-08-13 13:23:41</td>\n",
       "      <td>1</td>\n",
       "    </tr>\n",
       "    <tr>\n",
       "      <th>...</th>\n",
       "      <td>...</td>\n",
       "      <td>...</td>\n",
       "      <td>...</td>\n",
       "      <td>...</td>\n",
       "      <td>...</td>\n",
       "      <td>...</td>\n",
       "    </tr>\n",
       "    <tr>\n",
       "      <th>24999746</th>\n",
       "      <td>162538</td>\n",
       "      <td>69757</td>\n",
       "      <td>1.0</td>\n",
       "      <td>1438785456</td>\n",
       "      <td>2015-08-05 14:37:36</td>\n",
       "      <td>1</td>\n",
       "    </tr>\n",
       "    <tr>\n",
       "      <th>24999729</th>\n",
       "      <td>162538</td>\n",
       "      <td>49286</td>\n",
       "      <td>1.0</td>\n",
       "      <td>1438785469</td>\n",
       "      <td>2015-08-05 14:37:49</td>\n",
       "      <td>1</td>\n",
       "    </tr>\n",
       "    <tr>\n",
       "      <th>24999715</th>\n",
       "      <td>162538</td>\n",
       "      <td>8533</td>\n",
       "      <td>1.0</td>\n",
       "      <td>1438785506</td>\n",
       "      <td>2015-08-05 14:38:26</td>\n",
       "      <td>1</td>\n",
       "    </tr>\n",
       "    <tr>\n",
       "      <th>24999762</th>\n",
       "      <td>162538</td>\n",
       "      <td>93988</td>\n",
       "      <td>1.0</td>\n",
       "      <td>1438785545</td>\n",
       "      <td>2015-08-05 14:39:05</td>\n",
       "      <td>1</td>\n",
       "    </tr>\n",
       "    <tr>\n",
       "      <th>24999708</th>\n",
       "      <td>162538</td>\n",
       "      <td>6668</td>\n",
       "      <td>1.0</td>\n",
       "      <td>1438785622</td>\n",
       "      <td>2015-08-05 14:40:22</td>\n",
       "      <td>1</td>\n",
       "    </tr>\n",
       "  </tbody>\n",
       "</table>\n",
       "<p>4644545 rows × 6 columns</p>\n",
       "</div>"
      ],
      "text/plain": [
       "          userId  item_id  rating   timestamp            datetime  sessionId\n",
       "266            3      356     1.0  1439472199 2015-08-13 13:23:19          1\n",
       "272            3      593     1.0  1439472203 2015-08-13 13:23:23          1\n",
       "254            3        1     1.0  1439472215 2015-08-13 13:23:35          1\n",
       "268            3      480    -1.0  1439472219 2015-08-13 13:23:39          1\n",
       "317            3     2571     1.0  1439472221 2015-08-13 13:23:41          1\n",
       "...          ...      ...     ...         ...                 ...        ...\n",
       "24999746  162538    69757     1.0  1438785456 2015-08-05 14:37:36          1\n",
       "24999729  162538    49286     1.0  1438785469 2015-08-05 14:37:49          1\n",
       "24999715  162538     8533     1.0  1438785506 2015-08-05 14:38:26          1\n",
       "24999762  162538    93988     1.0  1438785545 2015-08-05 14:39:05          1\n",
       "24999708  162538     6668     1.0  1438785622 2015-08-05 14:40:22          1\n",
       "\n",
       "[4644545 rows x 6 columns]"
      ]
     },
     "execution_count": 17,
     "metadata": {},
     "output_type": "execute_result"
    }
   ],
   "source": [
    "df.loc[df.rating <2.5,\"rating\"] = -1\n",
    "df.loc[df.rating >3.5,\"rating\"] = 1\n",
    "df"
   ]
  },
  {
   "cell_type": "code",
   "execution_count": 18,
   "metadata": {
    "metadata": {}
   },
   "outputs": [],
   "source": [
    "# create a user_session identifier\n",
    "df = df.copy()\n",
    "df['user_session_id'] = (df['userId'].astype(str) + '_' + df['sessionId'].astype(str))\n",
    "df = df.sort_values(by=['user_session_id', 'timestamp'])"
   ]
  },
  {
   "cell_type": "markdown",
   "metadata": {},
   "source": [
    "### Define sessions suitable for testing"
   ]
  },
  {
   "cell_type": "code",
   "execution_count": 19,
   "metadata": {
    "metadata": {}
   },
   "outputs": [
    {
     "data": {
      "text/html": [
       "<div>\n",
       "<style scoped>\n",
       "    .dataframe tbody tr th:only-of-type {\n",
       "        vertical-align: middle;\n",
       "    }\n",
       "\n",
       "    .dataframe tbody tr th {\n",
       "        vertical-align: top;\n",
       "    }\n",
       "\n",
       "    .dataframe thead th {\n",
       "        text-align: right;\n",
       "    }\n",
       "</style>\n",
       "<table border=\"1\" class=\"dataframe\">\n",
       "  <thead>\n",
       "    <tr style=\"text-align: right;\">\n",
       "      <th></th>\n",
       "      <th>user_session_id</th>\n",
       "      <th>userId</th>\n",
       "      <th>ratingsCount</th>\n",
       "      <th>positiveCount</th>\n",
       "      <th>negativeCount</th>\n",
       "    </tr>\n",
       "  </thead>\n",
       "  <tbody>\n",
       "    <tr>\n",
       "      <th>0</th>\n",
       "      <td>100001_1</td>\n",
       "      <td>100001</td>\n",
       "      <td>71</td>\n",
       "      <td>69</td>\n",
       "      <td>2</td>\n",
       "    </tr>\n",
       "    <tr>\n",
       "      <th>1</th>\n",
       "      <td>100001_2</td>\n",
       "      <td>100001</td>\n",
       "      <td>106</td>\n",
       "      <td>103</td>\n",
       "      <td>3</td>\n",
       "    </tr>\n",
       "    <tr>\n",
       "      <th>2</th>\n",
       "      <td>100007_1</td>\n",
       "      <td>100007</td>\n",
       "      <td>8</td>\n",
       "      <td>8</td>\n",
       "      <td>0</td>\n",
       "    </tr>\n",
       "    <tr>\n",
       "      <th>3</th>\n",
       "      <td>10000_1</td>\n",
       "      <td>10000</td>\n",
       "      <td>76</td>\n",
       "      <td>34</td>\n",
       "      <td>42</td>\n",
       "    </tr>\n",
       "    <tr>\n",
       "      <th>4</th>\n",
       "      <td>100014_1</td>\n",
       "      <td>100014</td>\n",
       "      <td>133</td>\n",
       "      <td>133</td>\n",
       "      <td>0</td>\n",
       "    </tr>\n",
       "    <tr>\n",
       "      <th>...</th>\n",
       "      <td>...</td>\n",
       "      <td>...</td>\n",
       "      <td>...</td>\n",
       "      <td>...</td>\n",
       "      <td>...</td>\n",
       "    </tr>\n",
       "    <tr>\n",
       "      <th>283448</th>\n",
       "      <td>9998_8</td>\n",
       "      <td>9998</td>\n",
       "      <td>2</td>\n",
       "      <td>2</td>\n",
       "      <td>0</td>\n",
       "    </tr>\n",
       "    <tr>\n",
       "      <th>283449</th>\n",
       "      <td>9998_9</td>\n",
       "      <td>9998</td>\n",
       "      <td>1</td>\n",
       "      <td>1</td>\n",
       "      <td>0</td>\n",
       "    </tr>\n",
       "    <tr>\n",
       "      <th>283450</th>\n",
       "      <td>99991_1</td>\n",
       "      <td>99991</td>\n",
       "      <td>112</td>\n",
       "      <td>75</td>\n",
       "      <td>37</td>\n",
       "    </tr>\n",
       "    <tr>\n",
       "      <th>283451</th>\n",
       "      <td>99999_1</td>\n",
       "      <td>99999</td>\n",
       "      <td>505</td>\n",
       "      <td>456</td>\n",
       "      <td>49</td>\n",
       "    </tr>\n",
       "    <tr>\n",
       "      <th>283452</th>\n",
       "      <td>99_1</td>\n",
       "      <td>99</td>\n",
       "      <td>38</td>\n",
       "      <td>27</td>\n",
       "      <td>11</td>\n",
       "    </tr>\n",
       "  </tbody>\n",
       "</table>\n",
       "<p>283453 rows × 5 columns</p>\n",
       "</div>"
      ],
      "text/plain": [
       "       user_session_id  userId  ratingsCount  positiveCount  negativeCount\n",
       "0             100001_1  100001            71             69              2\n",
       "1             100001_2  100001           106            103              3\n",
       "2             100007_1  100007             8              8              0\n",
       "3              10000_1   10000            76             34             42\n",
       "4             100014_1  100014           133            133              0\n",
       "...                ...     ...           ...            ...            ...\n",
       "283448          9998_8    9998             2              2              0\n",
       "283449          9998_9    9998             1              1              0\n",
       "283450         99991_1   99991           112             75             37\n",
       "283451         99999_1   99999           505            456             49\n",
       "283452            99_1      99            38             27             11\n",
       "\n",
       "[283453 rows x 5 columns]"
      ]
     },
     "execution_count": 19,
     "metadata": {},
     "output_type": "execute_result"
    }
   ],
   "source": [
    "testable_sessions = df.groupby('user_session_id').agg({\"userId\": \"first\", \"rating\": \"count\"}).rename(columns={\"rating\": \"ratingsCount\"}).reset_index()\n",
    "testable_sessions[\"positiveCount\"] = 0\n",
    "positive_counts = df[df.rating == 1.].groupby('user_session_id').rating.count()\n",
    "testable_sessions.loc[testable_sessions[\"user_session_id\"].isin(positive_counts.index) ,\"positiveCount\"] = testable_sessions.loc[testable_sessions[\"user_session_id\"].isin(positive_counts.index) ,\"user_session_id\"].apply(lambda x: positive_counts[x])\n",
    "testable_sessions[\"negativeCount\"] = testable_sessions[\"ratingsCount\"] - testable_sessions[\"positiveCount\"]\n",
    "\n",
    "testable_sessions"
   ]
  },
  {
   "cell_type": "code",
   "execution_count": 20,
   "metadata": {
    "metadata": {}
   },
   "outputs": [
    {
     "name": "stdout",
     "output_type": "stream",
     "text": [
      "283453\n",
      "34112\n"
     ]
    }
   ],
   "source": [
    "print(len(testable_sessions))\n",
    "# we need at least 3 positive interactions and 3 negative interactions\n",
    "testable_sessions = testable_sessions[(testable_sessions.positiveCount >= 3) & (testable_sessions.negativeCount >= 3)]\n",
    "print(len(testable_sessions))"
   ]
  },
  {
   "cell_type": "markdown",
   "metadata": {},
   "source": [
    "### Distinguish between validation and test sessions"
   ]
  },
  {
   "cell_type": "code",
   "execution_count": 21,
   "metadata": {
    "metadata": {}
   },
   "outputs": [],
   "source": [
    "# shuffle rows\n",
    "testable_sessions = testable_sessions.sample(frac=1, random_state=SEED).reset_index(drop=True)\n",
    "# add sessions randomly to validation set (0) or one of five CV splits (1-5)\n",
    "testable_sessions[\"split\"] = testable_sessions.index.values\n",
    "\n",
    "split_number_to_string = {\n",
    "    0: \"val\",  # 25% of sessions are validation\n",
    "    1: \"test\",\n",
    "    2: \"test\",\n",
    "    3: \"test\",\n",
    "}\n",
    "\n",
    "testable_sessions[\"split\"] = testable_sessions[\"split\"].apply(lambda x: x % 4).apply(lambda x: split_number_to_string[x])"
   ]
  },
  {
   "cell_type": "code",
   "execution_count": 22,
   "metadata": {
    "metadata": {}
   },
   "outputs": [
    {
     "data": {
      "text/html": [
       "<div>\n",
       "<style scoped>\n",
       "    .dataframe tbody tr th:only-of-type {\n",
       "        vertical-align: middle;\n",
       "    }\n",
       "\n",
       "    .dataframe tbody tr th {\n",
       "        vertical-align: top;\n",
       "    }\n",
       "\n",
       "    .dataframe thead th {\n",
       "        text-align: right;\n",
       "    }\n",
       "</style>\n",
       "<table border=\"1\" class=\"dataframe\">\n",
       "  <thead>\n",
       "    <tr style=\"text-align: right;\">\n",
       "      <th></th>\n",
       "      <th>user_session_id</th>\n",
       "      <th>userId</th>\n",
       "      <th>ratingsCount</th>\n",
       "      <th>positiveCount</th>\n",
       "      <th>negativeCount</th>\n",
       "      <th>split</th>\n",
       "    </tr>\n",
       "  </thead>\n",
       "  <tbody>\n",
       "    <tr>\n",
       "      <th>0</th>\n",
       "      <td>41935_1</td>\n",
       "      <td>41935</td>\n",
       "      <td>118</td>\n",
       "      <td>44</td>\n",
       "      <td>74</td>\n",
       "      <td>val</td>\n",
       "    </tr>\n",
       "    <tr>\n",
       "      <th>1</th>\n",
       "      <td>108975_1</td>\n",
       "      <td>108975</td>\n",
       "      <td>217</td>\n",
       "      <td>156</td>\n",
       "      <td>61</td>\n",
       "      <td>test</td>\n",
       "    </tr>\n",
       "    <tr>\n",
       "      <th>2</th>\n",
       "      <td>152928_22</td>\n",
       "      <td>152928</td>\n",
       "      <td>9</td>\n",
       "      <td>3</td>\n",
       "      <td>6</td>\n",
       "      <td>test</td>\n",
       "    </tr>\n",
       "    <tr>\n",
       "      <th>3</th>\n",
       "      <td>12510_1</td>\n",
       "      <td>12510</td>\n",
       "      <td>37</td>\n",
       "      <td>28</td>\n",
       "      <td>9</td>\n",
       "      <td>test</td>\n",
       "    </tr>\n",
       "    <tr>\n",
       "      <th>4</th>\n",
       "      <td>2610_6</td>\n",
       "      <td>2610</td>\n",
       "      <td>26</td>\n",
       "      <td>19</td>\n",
       "      <td>7</td>\n",
       "      <td>val</td>\n",
       "    </tr>\n",
       "    <tr>\n",
       "      <th>...</th>\n",
       "      <td>...</td>\n",
       "      <td>...</td>\n",
       "      <td>...</td>\n",
       "      <td>...</td>\n",
       "      <td>...</td>\n",
       "      <td>...</td>\n",
       "    </tr>\n",
       "    <tr>\n",
       "      <th>34107</th>\n",
       "      <td>11750_14</td>\n",
       "      <td>11750</td>\n",
       "      <td>12</td>\n",
       "      <td>6</td>\n",
       "      <td>6</td>\n",
       "      <td>test</td>\n",
       "    </tr>\n",
       "    <tr>\n",
       "      <th>34108</th>\n",
       "      <td>38435_2</td>\n",
       "      <td>38435</td>\n",
       "      <td>48</td>\n",
       "      <td>17</td>\n",
       "      <td>31</td>\n",
       "      <td>val</td>\n",
       "    </tr>\n",
       "    <tr>\n",
       "      <th>34109</th>\n",
       "      <td>109208_1</td>\n",
       "      <td>109208</td>\n",
       "      <td>22</td>\n",
       "      <td>18</td>\n",
       "      <td>4</td>\n",
       "      <td>test</td>\n",
       "    </tr>\n",
       "    <tr>\n",
       "      <th>34110</th>\n",
       "      <td>149900_1</td>\n",
       "      <td>149900</td>\n",
       "      <td>53</td>\n",
       "      <td>48</td>\n",
       "      <td>5</td>\n",
       "      <td>test</td>\n",
       "    </tr>\n",
       "    <tr>\n",
       "      <th>34111</th>\n",
       "      <td>42998_2</td>\n",
       "      <td>42998</td>\n",
       "      <td>200</td>\n",
       "      <td>105</td>\n",
       "      <td>95</td>\n",
       "      <td>test</td>\n",
       "    </tr>\n",
       "  </tbody>\n",
       "</table>\n",
       "<p>34112 rows × 6 columns</p>\n",
       "</div>"
      ],
      "text/plain": [
       "      user_session_id  userId  ratingsCount  positiveCount  negativeCount  \\\n",
       "0             41935_1   41935           118             44             74   \n",
       "1            108975_1  108975           217            156             61   \n",
       "2           152928_22  152928             9              3              6   \n",
       "3             12510_1   12510            37             28              9   \n",
       "4              2610_6    2610            26             19              7   \n",
       "...               ...     ...           ...            ...            ...   \n",
       "34107        11750_14   11750            12              6              6   \n",
       "34108         38435_2   38435            48             17             31   \n",
       "34109        109208_1  109208            22             18              4   \n",
       "34110        149900_1  149900            53             48              5   \n",
       "34111         42998_2   42998           200            105             95   \n",
       "\n",
       "      split  \n",
       "0       val  \n",
       "1      test  \n",
       "2      test  \n",
       "3      test  \n",
       "4       val  \n",
       "...     ...  \n",
       "34107  test  \n",
       "34108   val  \n",
       "34109  test  \n",
       "34110  test  \n",
       "34111  test  \n",
       "\n",
       "[34112 rows x 6 columns]"
      ]
     },
     "execution_count": 22,
     "metadata": {},
     "output_type": "execute_result"
    }
   ],
   "source": [
    "testable_sessions"
   ]
  },
  {
   "cell_type": "code",
   "execution_count": 23,
   "metadata": {
    "metadata": {}
   },
   "outputs": [],
   "source": [
    "# check if every row is a unique user session\n",
    "assert len(testable_sessions) == testable_sessions.user_session_id.nunique()"
   ]
  },
  {
   "cell_type": "code",
   "execution_count": 24,
   "metadata": {
    "metadata": {}
   },
   "outputs": [
    {
     "name": "stdout",
     "output_type": "stream",
     "text": [
      "number of testable sessions in split train: 0\n",
      "number of testable sessions in split val: 8528\n",
      "number of testable sessions in split test: 25584\n"
     ]
    }
   ],
   "source": [
    "for split in [\"train\", \"val\", \"test\"]:\n",
    "    print(f\"number of testable sessions in split {split}: {len(testable_sessions[testable_sessions.split == split])}\")"
   ]
  },
  {
   "cell_type": "code",
   "execution_count": 25,
   "metadata": {
    "metadata": {}
   },
   "outputs": [],
   "source": [
    "# map user_session_id to split\n",
    "user_session_id_to_split = {usid: split for usid, split in zip(testable_sessions.user_session_id.values, testable_sessions.split.values)}"
   ]
  },
  {
   "cell_type": "code",
   "execution_count": 26,
   "metadata": {
    "metadata": {}
   },
   "outputs": [],
   "source": [
    "# assign dataframe entries to split\n",
    "df[\"split\"] = df[\"user_session_id\"].apply(lambda x: user_session_id_to_split.get(x, \"train\"))"
   ]
  },
  {
   "cell_type": "code",
   "execution_count": 27,
   "metadata": {
    "metadata": {}
   },
   "outputs": [
    {
     "name": "stdout",
     "output_type": "stream",
     "text": [
      "count    36130.000000\n",
      "mean        49.365652\n",
      "std        330.643594\n",
      "min          1.000000\n",
      "25%          1.000000\n",
      "50%          2.000000\n",
      "75%          8.000000\n",
      "max      11858.000000\n",
      "Name: count, dtype: float64\n",
      "count    36130.000000\n",
      "mean         6.269278\n",
      "std         14.097070\n",
      "min          1.000000\n",
      "25%          1.000000\n",
      "50%          2.000000\n",
      "75%          4.000000\n",
      "max        100.000000\n",
      "Name: count, dtype: float64\n"
     ]
    },
    {
     "name": "stderr",
     "output_type": "stream",
     "text": [
      "/tmp/ipykernel_1140/1933004896.py:9: DeprecationWarning: DataFrameGroupBy.apply operated on the grouping columns. This behavior is deprecated, and in a future version of pandas the grouping columns will be excluded from the operation. Either pass `include_groups=False` to exclude the groupings or explicitly select the grouping columns after groupby to silence this warning.\n",
      "  train_df = train_df.groupby('item_id', group_keys=False).apply(\n"
     ]
    }
   ],
   "source": [
    "train_df = df[df.split == \"train\"]\n",
    "eval_df = df[df.split != \"train\"]\n",
    "\n",
    "# in training split, keep only interactions with (positive) rating 1\n",
    "train_df = train_df[train_df.rating == 1.]\n",
    "\n",
    "df = pd.concat([train_df, eval_df])"
   ]
  },
  {
   "cell_type": "code",
   "execution_count": 28,
   "metadata": {
    "metadata": {}
   },
   "outputs": [
    {
     "data": {
      "text/plain": [
       "(3049349, 8)"
      ]
     },
     "execution_count": 28,
     "metadata": {},
     "output_type": "execute_result"
    }
   ],
   "source": [
    "df.shape"
   ]
  },
  {
   "cell_type": "code",
   "execution_count": 29,
   "metadata": {
    "metadata": {}
   },
   "outputs": [
    {
     "data": {
      "text/plain": [
       "split\n",
       "test     2139835\n",
       "train     188385\n",
       "val       721129\n",
       "Name: rating, dtype: int64"
      ]
     },
     "execution_count": 29,
     "metadata": {},
     "output_type": "execute_result"
    }
   ],
   "source": [
    "df.groupby(\"split\")[\"rating\"].count()"
   ]
  },
  {
   "cell_type": "markdown",
   "metadata": {},
   "source": [
    "## Save processed dataset"
   ]
  },
  {
   "cell_type": "code",
   "execution_count": 30,
   "metadata": {
    "metadata": {}
   },
   "outputs": [],
   "source": [
    "df.to_csv(DATA_FOLDER + \"ratings_processed_MovieLens_dense.csv\", index=False)"
   ]
  }
 ],
 "metadata": {
  "kernelspec": {
   "display_name": "Python 3",
   "language": "python",
   "name": "python3"
  },
  "language_info": {
   "codemirror_mode": {
    "name": "ipython",
    "version": 3
   },
   "file_extension": ".py",
   "mimetype": "text/x-python",
   "name": "python",
   "nbconvert_exporter": "python",
   "pygments_lexer": "ipython3",
   "version": "3.10.14"
  }
 },
 "nbformat": 4,
 "nbformat_minor": 4
}
