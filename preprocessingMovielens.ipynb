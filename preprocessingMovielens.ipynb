{
 "cells": [
  {
   "cell_type": "code",
   "execution_count": null,
   "metadata": {},
   "outputs": [],
   "source": [
    "import numpy as np\n",
    "import pandas as pd"
   ]
  },
  {
   "cell_type": "code",
   "outputs": [],
   "source": [
    "DATA_FOLDER = \"data/\""
   ],
   "metadata": {
    "collapsed": false
   }
  },
  {
   "cell_type": "code",
   "execution_count": null,
   "metadata": {},
   "outputs": [],
   "source": [
    "ratings = pd.read_csv(DATA_FOLDER + \"ratings.csv\")"
   ]
  },
  {
   "cell_type": "code",
   "execution_count": null,
   "metadata": {},
   "outputs": [],
   "source": [
    "ratings.head()"
   ]
  },
  {
   "cell_type": "code",
   "execution_count": null,
   "metadata": {},
   "outputs": [],
   "source": [
    "ratings[\"datetime\"] = pd.to_datetime(ratings[\"timestamp\"], unit = \"s\")"
   ]
  },
  {
   "cell_type": "code",
   "execution_count": null,
   "metadata": {},
   "outputs": [],
   "source": [
    "ratings.sort_values([\"userId\",\"timestamp\"], inplace=True)\n",
    "ratings"
   ]
  },
  {
   "cell_type": "code",
   "execution_count": null,
   "metadata": {},
   "outputs": [],
   "source": [
    "ratings[\"sessionId\"] = 1"
   ]
  },
  {
   "cell_type": "code",
   "execution_count": null,
   "metadata": {},
   "outputs": [],
   "source": [
    "import seaborn as sns\n",
    "sns.histplot(ratings[\"datetime\"])"
   ]
  },
  {
   "cell_type": "markdown",
   "metadata": {},
   "source": [
    "### Limit to only recent data (2015+)"
   ]
  },
  {
   "cell_type": "code",
   "execution_count": null,
   "metadata": {},
   "outputs": [],
   "source": [
    "ratings_2015plus = ratings.loc[ratings[\"datetime\"] >= np.datetime64('2015', 'Y')]\n",
    "ratings_2015plus.shape"
   ]
  },
  {
   "cell_type": "code",
   "execution_count": null,
   "metadata": {},
   "outputs": [],
   "source": [
    "len(ratings_2015plus.movieId.unique()),len(ratings_2015plus.userId.unique())"
   ]
  },
  {
   "cell_type": "markdown",
   "metadata": {},
   "source": [
    "### Make data session-based\n",
    "- new session if a gap of at least 24 hours occured between consecutive records"
   ]
  },
  {
   "cell_type": "code",
   "execution_count": null,
   "metadata": {
    "scrolled": true
   },
   "outputs": [],
   "source": [
    "#takes a couple minutes to complete\n",
    "sessionBound = 86400 # one day\n",
    "i=0\n",
    "for u in ratings_2015plus.userId.unique():\n",
    "    i = i+1\n",
    "    r_u = ratings_2015plus.loc[ratings_2015plus.userId == u]\n",
    "    \n",
    "    n_time = r_u['timestamp'].to_numpy()    \n",
    "    sessIncrease = np.ediff1d(n_time, to_begin=0) > sessionBound\n",
    "    sessNo = np.cumsum(sessIncrease) +1\n",
    "    \n",
    "    ratings_2015plus.loc[r_u.index, \"sessionId\"] = sessNo\n",
    "    \n",
    "    if i % 50 == 0:\n",
    "        print(i)\n",
    "        #break\n",
    "ratings_2015plus"
   ]
  },
  {
   "cell_type": "code",
   "execution_count": null,
   "metadata": {},
   "outputs": [],
   "source": [
    "countData = ratings_2015plus.groupby([\"userId\",\"sessionId\"])[[\"rating\"]].count()\n",
    "countData"
   ]
  },
  {
   "cell_type": "code",
   "execution_count": null,
   "metadata": {},
   "outputs": [],
   "source": [
    "val_counts = countData[\"rating\"].value_counts()\n",
    "val_counts.sort_index(inplace=True)\n",
    "val_counts"
   ]
  },
  {
   "cell_type": "code",
   "execution_count": null,
   "metadata": {},
   "outputs": [],
   "source": [
    "#most of the sessions will be small with at most a couple items in there\n",
    "from matplotlib import pyplot as plt\n",
    "plt.plot(val_counts)\n",
    "plt.gca().set_xlim(0,100)"
   ]
  },
  {
   "cell_type": "code",
   "execution_count": null,
   "metadata": {},
   "outputs": [],
   "source": [
    "# ... but there are a few that are very large\n",
    "plt.plot(val_counts)\n",
    "plt.gca().set_ylim(0,50)"
   ]
  },
  {
   "cell_type": "code",
   "execution_count": null,
   "metadata": {},
   "outputs": [],
   "source": [
    "#mean number of items in a session with the given Id (i.e., less items in later sessions)\n",
    "countData.reset_index().groupby(\"sessionId\")[[\"rating\"]].mean()"
   ]
  },
  {
   "cell_type": "code",
   "execution_count": null,
   "metadata": {},
   "outputs": [],
   "source": [
    "# average volume of sessions per user\n",
    "(countData.reset_index().groupby(\"userId\")[\"sessionId\"].count()).mean()"
   ]
  },
  {
   "cell_type": "markdown",
   "metadata": {},
   "source": [
    "### Prepare binary training data\n",
    "- ratings < 2.5 are negative, ratings > 3.5 are positive; remove middle ones\n",
    "- for testing, identify user-session pairs where there is at least one positive and one negative rating"
   ]
  },
  {
   "cell_type": "code",
   "execution_count": null,
   "metadata": {},
   "outputs": [],
   "source": [
    "ratings_2015plusRestr = ratings_2015plus.loc[~((ratings_2015plus.rating >=2.5)&(ratings_2015plus.rating <=3.5)) ]\n",
    "ratings_2015plusRestr.shape"
   ]
  },
  {
   "cell_type": "code",
   "execution_count": null,
   "metadata": {},
   "outputs": [],
   "source": [
    "ratings_2015plusRestr.loc[ratings_2015plus.rating <2.5,\"rating\"] = -1\n",
    "ratings_2015plusRestr.loc[ratings_2015plus.rating >3.5,\"rating\"] = 1\n",
    "ratings_2015plusRestr"
   ]
  },
  {
   "cell_type": "code",
   "execution_count": null,
   "metadata": {},
   "outputs": [],
   "source": [
    "sessionData = ratings_2015plusRestr.groupby([\"userId\",\"sessionId\"]).agg({\"rating\":[\"min\",\"max\",\"count\"]})\n",
    "sessionData"
   ]
  },
  {
   "cell_type": "code",
   "execution_count": null,
   "metadata": {},
   "outputs": [],
   "source": [
    "testableSessions = sessionData.loc[((sessionData[\"rating\"][\"min\"]==-1.0)&(sessionData[\"rating\"][\"max\"]==1.0)&(sessionData[\"rating\"][\"count\"]>=3))]\n",
    "testableSessions.columns = [\"minValue\",\"maxValue\", \"ratingsCount\"]\n",
    "testableSessions"
   ]
  },
  {
   "cell_type": "code",
   "execution_count": null,
   "metadata": {},
   "outputs": [],
   "source": [
    "ratings_2015plusRestr.to_csv(DATA_FOLDER + \"processedRatingsMovielens.csv\")"
   ]
  },
  {
   "cell_type": "code",
   "execution_count": null,
   "metadata": {},
   "outputs": [],
   "source": [
    "testableSessions.to_csv(DATA_FOLDER + \"testableSessionsMovielens.csv\")"
   ]
  },
  {
   "cell_type": "code",
   "execution_count": null,
   "metadata": {},
   "outputs": [],
   "source": [
    "positiveCount = ratings_2015plusRestr.loc[ratings_2015plusRestr.rating ==1].groupby([\"userId\",\"sessionId\"])[[\"rating\"]].count()\n",
    "positiveCount.columns = [\"positiveCount\"]\n",
    "positiveCount.loc[positiveCount.positiveCount>1]"
   ]
  },
  {
   "cell_type": "code",
   "execution_count": null,
   "metadata": {},
   "outputs": [],
   "source": [
    "testableSessions = testableSessions.set_index([\"userId\",\"sessionId\"]).join(positiveCount)\n",
    "testableSessions"
   ]
  },
  {
   "cell_type": "code",
   "execution_count": null,
   "metadata": {},
   "outputs": [],
   "source": [
    "testableSessions = testableSessions.loc[testableSessions.positiveCount >= 2]"
   ]
  },
  {
   "cell_type": "code",
   "execution_count": null,
   "metadata": {},
   "outputs": [],
   "source": [
    "testableSessions"
   ]
  },
  {
   "cell_type": "code",
   "execution_count": null,
   "metadata": {},
   "outputs": [],
   "source": [
    "testableSessions.to_csv(DATA_FOLDER + \"testableSessionsMovielens.csv\")"
   ]
  },
  {
   "cell_type": "code",
   "execution_count": null,
   "metadata": {},
   "outputs": [],
   "source": [
    "ratings_2015plusRestr = pd.read_csv(DATA_FOLDER + \"processedRatingsMovielens.csv\")\n",
    "testableSessions = pd.read_csv(DATA_FOLDER + \"testableSessionsMovielens.csv\")"
   ]
  },
  {
   "cell_type": "code",
   "execution_count": null,
   "metadata": {},
   "outputs": [],
   "source": [
    "ratings_2015plusRestr.groupby([\"userId\",\"sessionId\"]).count()"
   ]
  },
  {
   "cell_type": "code",
   "execution_count": null,
   "metadata": {},
   "outputs": [],
   "source": [
    "def numpy_combinations(x):\n",
    "   \n",
    "    idx = np.stack(np.triu_indices(len(x), k=1), axis=-1)\n",
    "\n",
    "    return x[idx].tolist()"
   ]
  },
  {
   "cell_type": "code",
   "execution_count": null,
   "metadata": {
    "scrolled": true
   },
   "outputs": [],
   "source": [
    "records = {}\n",
    "i=0\n",
    "for uid in ratings_2015plusRestr.userId.unique():\n",
    "    i = i+1\n",
    "    u_dt = ratings_2015plusRestr.loc[ratings_2015plusRestr.userId == uid]\n",
    "    for sid in u_dt.sessionId.unique():\n",
    "        u_s_dt = u_dt.loc[u_dt.sessionId==sid]\n",
    "        items = np.sort(u_s_dt.movieId.unique())\n",
    "        pairs = numpy_combinations(np.array(items))\n",
    "        pairs = [(p[0],p[1]) for p in pairs]\n",
    "        \n",
    "        values = [1]*len(pairs)\n",
    "        dct = dict(zip(pairs, values))\n",
    "        records.update(dct)\n",
    "    if i % 50 == 0:\n",
    "        print(i)\n",
    "        #break\n",
    "len(records)\n",
    "        "
   ]
  }
 ],
 "metadata": {
  "kernelspec": {
   "display_name": "Python 3",
   "language": "python",
   "name": "python3"
  },
  "language_info": {
   "codemirror_mode": {
    "name": "ipython",
    "version": 3
   },
   "file_extension": ".py",
   "mimetype": "text/x-python",
   "name": "python",
   "nbconvert_exporter": "python",
   "pygments_lexer": "ipython3",
   "version": "3.8.5"
  }
 },
 "nbformat": 4,
 "nbformat_minor": 4
}
