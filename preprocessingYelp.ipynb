{
 "cells": [
  {
   "cell_type": "code",
   "execution_count": 1,
   "metadata": {
    "metadata": {}
   },
   "outputs": [],
   "source": [
    "import numpy as np\n",
    "import pandas as pd\n",
    "\n",
    "SEED = 12345\n",
    "np.random.seed(SEED)"
   ]
  },
  {
   "cell_type": "markdown",
   "metadata": {},
   "source": [
    "# Load original dataset\n",
    "- dataset can be obtained from https://grouplens.org/datasets/movielens/25m/\n",
    "- place `ratings.csv` in `./data/yelp2018/` folder"
   ]
  },
  {
   "cell_type": "code",
   "execution_count": 2,
   "metadata": {
    "collapsed": false,
    "metadata": {}
   },
   "outputs": [],
   "source": [
    "DATA_FOLDER = \"./data/yelp2018/\""
   ]
  },
  {
   "cell_type": "code",
   "execution_count": 3,
   "metadata": {},
   "outputs": [],
   "source": [
    "users = []\n",
    "items = []\n",
    "# we combine the train and test splits (weak generalization)\n",
    "# and will construct strong generalization splits the same way we do it in other experiments\n",
    "for split in [\"train.txt\", \"test.txt\"]:\n",
    "    with open(DATA_FOLDER + \"train.txt\") as f:\n",
    "        for line in f.readlines():\n",
    "            entries = line.strip().split()\n",
    "            users += [entries[0]] * (len(entries) - 1)\n",
    "            items += entries[1:]\n",
    "\n",
    "ratings = pd.DataFrame({\"userId\": users, \"item_id\": items})\n",
    "ratings[\"rating\"] = 1."
   ]
  },
  {
   "cell_type": "code",
   "execution_count": 4,
   "metadata": {
    "metadata": {}
   },
   "outputs": [
    {
     "data": {
      "text/html": [
       "<div>\n",
       "<style scoped>\n",
       "    .dataframe tbody tr th:only-of-type {\n",
       "        vertical-align: middle;\n",
       "    }\n",
       "\n",
       "    .dataframe tbody tr th {\n",
       "        vertical-align: top;\n",
       "    }\n",
       "\n",
       "    .dataframe thead th {\n",
       "        text-align: right;\n",
       "    }\n",
       "</style>\n",
       "<table border=\"1\" class=\"dataframe\">\n",
       "  <thead>\n",
       "    <tr style=\"text-align: right;\">\n",
       "      <th></th>\n",
       "      <th>userId</th>\n",
       "      <th>item_id</th>\n",
       "      <th>rating</th>\n",
       "    </tr>\n",
       "  </thead>\n",
       "  <tbody>\n",
       "    <tr>\n",
       "      <th>0</th>\n",
       "      <td>0</td>\n",
       "      <td>0</td>\n",
       "      <td>1.0</td>\n",
       "    </tr>\n",
       "    <tr>\n",
       "      <th>1</th>\n",
       "      <td>0</td>\n",
       "      <td>1</td>\n",
       "      <td>1.0</td>\n",
       "    </tr>\n",
       "    <tr>\n",
       "      <th>2</th>\n",
       "      <td>0</td>\n",
       "      <td>2</td>\n",
       "      <td>1.0</td>\n",
       "    </tr>\n",
       "    <tr>\n",
       "      <th>3</th>\n",
       "      <td>0</td>\n",
       "      <td>3</td>\n",
       "      <td>1.0</td>\n",
       "    </tr>\n",
       "    <tr>\n",
       "      <th>4</th>\n",
       "      <td>0</td>\n",
       "      <td>4</td>\n",
       "      <td>1.0</td>\n",
       "    </tr>\n",
       "  </tbody>\n",
       "</table>\n",
       "</div>"
      ],
      "text/plain": [
       "  userId item_id  rating\n",
       "0      0       0     1.0\n",
       "1      0       1     1.0\n",
       "2      0       2     1.0\n",
       "3      0       3     1.0\n",
       "4      0       4     1.0"
      ]
     },
     "execution_count": 4,
     "metadata": {},
     "output_type": "execute_result"
    }
   ],
   "source": [
    "ratings.head()"
   ]
  },
  {
   "cell_type": "code",
   "execution_count": 5,
   "metadata": {
    "metadata": {}
   },
   "outputs": [
    {
     "data": {
      "text/html": [
       "<div>\n",
       "<style scoped>\n",
       "    .dataframe tbody tr th:only-of-type {\n",
       "        vertical-align: middle;\n",
       "    }\n",
       "\n",
       "    .dataframe tbody tr th {\n",
       "        vertical-align: top;\n",
       "    }\n",
       "\n",
       "    .dataframe thead th {\n",
       "        text-align: right;\n",
       "    }\n",
       "</style>\n",
       "<table border=\"1\" class=\"dataframe\">\n",
       "  <thead>\n",
       "    <tr style=\"text-align: right;\">\n",
       "      <th></th>\n",
       "      <th>userId</th>\n",
       "      <th>item_id</th>\n",
       "      <th>rating</th>\n",
       "    </tr>\n",
       "  </thead>\n",
       "  <tbody>\n",
       "    <tr>\n",
       "      <th>0</th>\n",
       "      <td>0</td>\n",
       "      <td>0</td>\n",
       "      <td>1.0</td>\n",
       "    </tr>\n",
       "    <tr>\n",
       "      <th>1237275</th>\n",
       "      <td>0</td>\n",
       "      <td>16</td>\n",
       "      <td>1.0</td>\n",
       "    </tr>\n",
       "    <tr>\n",
       "      <th>1237274</th>\n",
       "      <td>0</td>\n",
       "      <td>15</td>\n",
       "      <td>1.0</td>\n",
       "    </tr>\n",
       "    <tr>\n",
       "      <th>1237273</th>\n",
       "      <td>0</td>\n",
       "      <td>14</td>\n",
       "      <td>1.0</td>\n",
       "    </tr>\n",
       "    <tr>\n",
       "      <th>1237272</th>\n",
       "      <td>0</td>\n",
       "      <td>13</td>\n",
       "      <td>1.0</td>\n",
       "    </tr>\n",
       "    <tr>\n",
       "      <th>...</th>\n",
       "      <td>...</td>\n",
       "      <td>...</td>\n",
       "      <td>...</td>\n",
       "    </tr>\n",
       "    <tr>\n",
       "      <th>476870</th>\n",
       "      <td>9999</td>\n",
       "      <td>11262</td>\n",
       "      <td>1.0</td>\n",
       "    </tr>\n",
       "    <tr>\n",
       "      <th>476871</th>\n",
       "      <td>9999</td>\n",
       "      <td>25380</td>\n",
       "      <td>1.0</td>\n",
       "    </tr>\n",
       "    <tr>\n",
       "      <th>476872</th>\n",
       "      <td>9999</td>\n",
       "      <td>14000</td>\n",
       "      <td>1.0</td>\n",
       "    </tr>\n",
       "    <tr>\n",
       "      <th>476866</th>\n",
       "      <td>9999</td>\n",
       "      <td>3122</td>\n",
       "      <td>1.0</td>\n",
       "    </tr>\n",
       "    <tr>\n",
       "      <th>1714150</th>\n",
       "      <td>9999</td>\n",
       "      <td>12729</td>\n",
       "      <td>1.0</td>\n",
       "    </tr>\n",
       "  </tbody>\n",
       "</table>\n",
       "<p>2474518 rows × 3 columns</p>\n",
       "</div>"
      ],
      "text/plain": [
       "        userId item_id  rating\n",
       "0            0       0     1.0\n",
       "1237275      0      16     1.0\n",
       "1237274      0      15     1.0\n",
       "1237273      0      14     1.0\n",
       "1237272      0      13     1.0\n",
       "...        ...     ...     ...\n",
       "476870    9999   11262     1.0\n",
       "476871    9999   25380     1.0\n",
       "476872    9999   14000     1.0\n",
       "476866    9999    3122     1.0\n",
       "1714150   9999   12729     1.0\n",
       "\n",
       "[2474518 rows x 3 columns]"
      ]
     },
     "execution_count": 5,
     "metadata": {},
     "output_type": "execute_result"
    }
   ],
   "source": [
    "ratings.sort_values([\"userId\"], inplace=True)\n",
    "ratings"
   ]
  },
  {
   "cell_type": "code",
   "execution_count": 6,
   "metadata": {
    "metadata": {}
   },
   "outputs": [],
   "source": [
    "ratings[\"sessionId\"] = 1  # just for consistency with other notebooks"
   ]
  },
  {
   "cell_type": "code",
   "execution_count": 7,
   "metadata": {
    "metadata": {}
   },
   "outputs": [
    {
     "data": {
      "text/plain": [
       "(38048, 31668)"
      ]
     },
     "execution_count": 7,
     "metadata": {},
     "output_type": "execute_result"
    }
   ],
   "source": [
    "len(ratings.item_id.unique()),len(ratings.userId.unique())"
   ]
  },
  {
   "cell_type": "markdown",
   "metadata": {},
   "source": [
    "## Data binarization\n",
    "- data is already binary\n",
    "- (unlike in MovieLens and BeerAdvocate) for testing, identify user-session pairs where there is at least 50 interactions (there is no negative feedback in this dataset, and individual users have many interactions)"
   ]
  },
  {
   "cell_type": "code",
   "execution_count": 8,
   "metadata": {
    "metadata": {}
   },
   "outputs": [
    {
     "data": {
      "text/plain": [
       "(2474518, 4)"
      ]
     },
     "execution_count": 8,
     "metadata": {},
     "output_type": "execute_result"
    }
   ],
   "source": [
    "df = ratings\n",
    "df.shape"
   ]
  },
  {
   "cell_type": "code",
   "execution_count": 9,
   "metadata": {
    "metadata": {}
   },
   "outputs": [],
   "source": [
    "# create a user_session identifier\n",
    "df = df.copy()\n",
    "df['user_session_id'] = (df['userId'].astype(str) + '_' + df['sessionId'].astype(str))\n",
    "df = df.sort_values(by=['user_session_id'])"
   ]
  },
  {
   "cell_type": "markdown",
   "metadata": {},
   "source": [
    "### Define sessions suitable for testing"
   ]
  },
  {
   "cell_type": "code",
   "execution_count": 10,
   "metadata": {
    "metadata": {}
   },
   "outputs": [
    {
     "data": {
      "text/html": [
       "<div>\n",
       "<style scoped>\n",
       "    .dataframe tbody tr th:only-of-type {\n",
       "        vertical-align: middle;\n",
       "    }\n",
       "\n",
       "    .dataframe tbody tr th {\n",
       "        vertical-align: top;\n",
       "    }\n",
       "\n",
       "    .dataframe thead th {\n",
       "        text-align: right;\n",
       "    }\n",
       "</style>\n",
       "<table border=\"1\" class=\"dataframe\">\n",
       "  <thead>\n",
       "    <tr style=\"text-align: right;\">\n",
       "      <th></th>\n",
       "      <th>user_session_id</th>\n",
       "      <th>userId</th>\n",
       "      <th>ratingsCount</th>\n",
       "      <th>positiveCount</th>\n",
       "      <th>negativeCount</th>\n",
       "    </tr>\n",
       "  </thead>\n",
       "  <tbody>\n",
       "    <tr>\n",
       "      <th>0</th>\n",
       "      <td>0_1</td>\n",
       "      <td>0</td>\n",
       "      <td>36</td>\n",
       "      <td>36</td>\n",
       "      <td>0</td>\n",
       "    </tr>\n",
       "    <tr>\n",
       "      <th>1</th>\n",
       "      <td>10000_1</td>\n",
       "      <td>10000</td>\n",
       "      <td>154</td>\n",
       "      <td>154</td>\n",
       "      <td>0</td>\n",
       "    </tr>\n",
       "    <tr>\n",
       "      <th>2</th>\n",
       "      <td>10001_1</td>\n",
       "      <td>10001</td>\n",
       "      <td>192</td>\n",
       "      <td>192</td>\n",
       "      <td>0</td>\n",
       "    </tr>\n",
       "    <tr>\n",
       "      <th>3</th>\n",
       "      <td>10002_1</td>\n",
       "      <td>10002</td>\n",
       "      <td>40</td>\n",
       "      <td>40</td>\n",
       "      <td>0</td>\n",
       "    </tr>\n",
       "    <tr>\n",
       "      <th>4</th>\n",
       "      <td>10003_1</td>\n",
       "      <td>10003</td>\n",
       "      <td>36</td>\n",
       "      <td>36</td>\n",
       "      <td>0</td>\n",
       "    </tr>\n",
       "    <tr>\n",
       "      <th>...</th>\n",
       "      <td>...</td>\n",
       "      <td>...</td>\n",
       "      <td>...</td>\n",
       "      <td>...</td>\n",
       "      <td>...</td>\n",
       "    </tr>\n",
       "    <tr>\n",
       "      <th>31663</th>\n",
       "      <td>9998_1</td>\n",
       "      <td>9998</td>\n",
       "      <td>46</td>\n",
       "      <td>46</td>\n",
       "      <td>0</td>\n",
       "    </tr>\n",
       "    <tr>\n",
       "      <th>31664</th>\n",
       "      <td>9999_1</td>\n",
       "      <td>9999</td>\n",
       "      <td>144</td>\n",
       "      <td>144</td>\n",
       "      <td>0</td>\n",
       "    </tr>\n",
       "    <tr>\n",
       "      <th>31665</th>\n",
       "      <td>999_1</td>\n",
       "      <td>999</td>\n",
       "      <td>136</td>\n",
       "      <td>136</td>\n",
       "      <td>0</td>\n",
       "    </tr>\n",
       "    <tr>\n",
       "      <th>31666</th>\n",
       "      <td>99_1</td>\n",
       "      <td>99</td>\n",
       "      <td>36</td>\n",
       "      <td>36</td>\n",
       "      <td>0</td>\n",
       "    </tr>\n",
       "    <tr>\n",
       "      <th>31667</th>\n",
       "      <td>9_1</td>\n",
       "      <td>9</td>\n",
       "      <td>48</td>\n",
       "      <td>48</td>\n",
       "      <td>0</td>\n",
       "    </tr>\n",
       "  </tbody>\n",
       "</table>\n",
       "<p>31668 rows × 5 columns</p>\n",
       "</div>"
      ],
      "text/plain": [
       "      user_session_id userId  ratingsCount  positiveCount  negativeCount\n",
       "0                 0_1      0            36             36              0\n",
       "1             10000_1  10000           154            154              0\n",
       "2             10001_1  10001           192            192              0\n",
       "3             10002_1  10002            40             40              0\n",
       "4             10003_1  10003            36             36              0\n",
       "...               ...    ...           ...            ...            ...\n",
       "31663          9998_1   9998            46             46              0\n",
       "31664          9999_1   9999           144            144              0\n",
       "31665           999_1    999           136            136              0\n",
       "31666            99_1     99            36             36              0\n",
       "31667             9_1      9            48             48              0\n",
       "\n",
       "[31668 rows x 5 columns]"
      ]
     },
     "execution_count": 10,
     "metadata": {},
     "output_type": "execute_result"
    }
   ],
   "source": [
    "testable_sessions = df.groupby('user_session_id').agg({\"userId\": \"first\", \"rating\": \"count\"}).rename(columns={\"rating\": \"ratingsCount\"}).reset_index()\n",
    "testable_sessions[\"positiveCount\"] = 0\n",
    "positive_counts = df[df.rating == 1.].groupby('user_session_id').rating.count()\n",
    "testable_sessions.loc[testable_sessions[\"user_session_id\"].isin(positive_counts.index) ,\"positiveCount\"] = testable_sessions.loc[testable_sessions[\"user_session_id\"].isin(positive_counts.index) ,\"user_session_id\"].apply(lambda x: positive_counts[x])\n",
    "testable_sessions[\"negativeCount\"] = testable_sessions[\"ratingsCount\"] - testable_sessions[\"positiveCount\"]\n",
    "\n",
    "testable_sessions"
   ]
  },
  {
   "cell_type": "code",
   "execution_count": 11,
   "metadata": {
    "metadata": {}
   },
   "outputs": [
    {
     "name": "stdout",
     "output_type": "stream",
     "text": [
      "31668\n",
      "16451\n"
     ]
    }
   ],
   "source": [
    "print(len(testable_sessions))\n",
    "# we need at least 50 interactions\n",
    "testable_sessions = testable_sessions[testable_sessions.positiveCount >= 50]\n",
    "print(len(testable_sessions))"
   ]
  },
  {
   "cell_type": "markdown",
   "metadata": {},
   "source": [
    "### Distinguish between validation and test sessions"
   ]
  },
  {
   "cell_type": "code",
   "execution_count": 12,
   "metadata": {
    "metadata": {}
   },
   "outputs": [],
   "source": [
    "# shuffle rows\n",
    "testable_sessions = testable_sessions.sample(frac=1, random_state=SEED).reset_index(drop=True)\n",
    "# add sessions randomly to validation set (0) or one of five CV splits (1-5)\n",
    "testable_sessions[\"split\"] = testable_sessions.index.values\n",
    "\n",
    "split_number_to_string = {\n",
    "    0: \"val\",  # 25% of sessions are validation\n",
    "    1: \"test\",\n",
    "    2: \"test\",\n",
    "    3: \"test\",\n",
    "}\n",
    "\n",
    "testable_sessions[\"split\"] = testable_sessions[\"split\"].apply(lambda x: x % 4).apply(lambda x: split_number_to_string[x])"
   ]
  },
  {
   "cell_type": "code",
   "execution_count": 13,
   "metadata": {
    "metadata": {}
   },
   "outputs": [
    {
     "data": {
      "text/html": [
       "<div>\n",
       "<style scoped>\n",
       "    .dataframe tbody tr th:only-of-type {\n",
       "        vertical-align: middle;\n",
       "    }\n",
       "\n",
       "    .dataframe tbody tr th {\n",
       "        vertical-align: top;\n",
       "    }\n",
       "\n",
       "    .dataframe thead th {\n",
       "        text-align: right;\n",
       "    }\n",
       "</style>\n",
       "<table border=\"1\" class=\"dataframe\">\n",
       "  <thead>\n",
       "    <tr style=\"text-align: right;\">\n",
       "      <th></th>\n",
       "      <th>user_session_id</th>\n",
       "      <th>userId</th>\n",
       "      <th>ratingsCount</th>\n",
       "      <th>positiveCount</th>\n",
       "      <th>negativeCount</th>\n",
       "      <th>split</th>\n",
       "    </tr>\n",
       "  </thead>\n",
       "  <tbody>\n",
       "    <tr>\n",
       "      <th>0</th>\n",
       "      <td>7018_1</td>\n",
       "      <td>7018</td>\n",
       "      <td>320</td>\n",
       "      <td>320</td>\n",
       "      <td>0</td>\n",
       "      <td>val</td>\n",
       "    </tr>\n",
       "    <tr>\n",
       "      <th>1</th>\n",
       "      <td>18474_1</td>\n",
       "      <td>18474</td>\n",
       "      <td>88</td>\n",
       "      <td>88</td>\n",
       "      <td>0</td>\n",
       "      <td>test</td>\n",
       "    </tr>\n",
       "    <tr>\n",
       "      <th>2</th>\n",
       "      <td>23539_1</td>\n",
       "      <td>23539</td>\n",
       "      <td>68</td>\n",
       "      <td>68</td>\n",
       "      <td>0</td>\n",
       "      <td>test</td>\n",
       "    </tr>\n",
       "    <tr>\n",
       "      <th>3</th>\n",
       "      <td>851_1</td>\n",
       "      <td>851</td>\n",
       "      <td>162</td>\n",
       "      <td>162</td>\n",
       "      <td>0</td>\n",
       "      <td>test</td>\n",
       "    </tr>\n",
       "    <tr>\n",
       "      <th>4</th>\n",
       "      <td>27164_1</td>\n",
       "      <td>27164</td>\n",
       "      <td>116</td>\n",
       "      <td>116</td>\n",
       "      <td>0</td>\n",
       "      <td>val</td>\n",
       "    </tr>\n",
       "    <tr>\n",
       "      <th>...</th>\n",
       "      <td>...</td>\n",
       "      <td>...</td>\n",
       "      <td>...</td>\n",
       "      <td>...</td>\n",
       "      <td>...</td>\n",
       "      <td>...</td>\n",
       "    </tr>\n",
       "    <tr>\n",
       "      <th>16446</th>\n",
       "      <td>2352_1</td>\n",
       "      <td>2352</td>\n",
       "      <td>98</td>\n",
       "      <td>98</td>\n",
       "      <td>0</td>\n",
       "      <td>test</td>\n",
       "    </tr>\n",
       "    <tr>\n",
       "      <th>16447</th>\n",
       "      <td>16942_1</td>\n",
       "      <td>16942</td>\n",
       "      <td>70</td>\n",
       "      <td>70</td>\n",
       "      <td>0</td>\n",
       "      <td>test</td>\n",
       "    </tr>\n",
       "    <tr>\n",
       "      <th>16448</th>\n",
       "      <td>30842_1</td>\n",
       "      <td>30842</td>\n",
       "      <td>56</td>\n",
       "      <td>56</td>\n",
       "      <td>0</td>\n",
       "      <td>val</td>\n",
       "    </tr>\n",
       "    <tr>\n",
       "      <th>16449</th>\n",
       "      <td>1361_1</td>\n",
       "      <td>1361</td>\n",
       "      <td>136</td>\n",
       "      <td>136</td>\n",
       "      <td>0</td>\n",
       "      <td>test</td>\n",
       "    </tr>\n",
       "    <tr>\n",
       "      <th>16450</th>\n",
       "      <td>30936_1</td>\n",
       "      <td>30936</td>\n",
       "      <td>74</td>\n",
       "      <td>74</td>\n",
       "      <td>0</td>\n",
       "      <td>test</td>\n",
       "    </tr>\n",
       "  </tbody>\n",
       "</table>\n",
       "<p>16451 rows × 6 columns</p>\n",
       "</div>"
      ],
      "text/plain": [
       "      user_session_id userId  ratingsCount  positiveCount  negativeCount split\n",
       "0              7018_1   7018           320            320              0   val\n",
       "1             18474_1  18474            88             88              0  test\n",
       "2             23539_1  23539            68             68              0  test\n",
       "3               851_1    851           162            162              0  test\n",
       "4             27164_1  27164           116            116              0   val\n",
       "...               ...    ...           ...            ...            ...   ...\n",
       "16446          2352_1   2352            98             98              0  test\n",
       "16447         16942_1  16942            70             70              0  test\n",
       "16448         30842_1  30842            56             56              0   val\n",
       "16449          1361_1   1361           136            136              0  test\n",
       "16450         30936_1  30936            74             74              0  test\n",
       "\n",
       "[16451 rows x 6 columns]"
      ]
     },
     "execution_count": 13,
     "metadata": {},
     "output_type": "execute_result"
    }
   ],
   "source": [
    "testable_sessions"
   ]
  },
  {
   "cell_type": "code",
   "execution_count": 14,
   "metadata": {
    "metadata": {}
   },
   "outputs": [],
   "source": [
    "# check if every row is a unique user session\n",
    "assert len(testable_sessions) == testable_sessions.user_session_id.nunique()"
   ]
  },
  {
   "cell_type": "code",
   "execution_count": 15,
   "metadata": {
    "metadata": {}
   },
   "outputs": [
    {
     "name": "stdout",
     "output_type": "stream",
     "text": [
      "number of testable sessions in split train: 0\n",
      "number of testable sessions in split val: 4113\n",
      "number of testable sessions in split test: 12338\n"
     ]
    }
   ],
   "source": [
    "for split in [\"train\", \"val\", \"test\"]:\n",
    "    print(f\"number of testable sessions in split {split}: {len(testable_sessions[testable_sessions.split == split])}\")"
   ]
  },
  {
   "cell_type": "code",
   "execution_count": 16,
   "metadata": {
    "metadata": {}
   },
   "outputs": [],
   "source": [
    "# map user_session_id to split\n",
    "user_session_id_to_split = {usid: split for usid, split in zip(testable_sessions.user_session_id.values, testable_sessions.split.values)}"
   ]
  },
  {
   "cell_type": "code",
   "execution_count": 17,
   "metadata": {
    "metadata": {}
   },
   "outputs": [],
   "source": [
    "# assign dataframe entries to split\n",
    "df[\"split\"] = df[\"user_session_id\"].apply(lambda x: user_session_id_to_split.get(x, \"train\"))"
   ]
  },
  {
   "cell_type": "code",
   "execution_count": 18,
   "metadata": {
    "metadata": {}
   },
   "outputs": [
    {
     "data": {
      "text/plain": [
       "(2474518, 6)"
      ]
     },
     "execution_count": 18,
     "metadata": {},
     "output_type": "execute_result"
    }
   ],
   "source": [
    "df.shape"
   ]
  },
  {
   "cell_type": "code",
   "execution_count": 19,
   "metadata": {
    "metadata": {}
   },
   "outputs": [
    {
     "data": {
      "text/plain": [
       "split\n",
       "test     1424302\n",
       "train     581810\n",
       "val       468406\n",
       "Name: rating, dtype: int64"
      ]
     },
     "execution_count": 19,
     "metadata": {},
     "output_type": "execute_result"
    }
   ],
   "source": [
    "df.groupby(\"split\")[\"rating\"].count()"
   ]
  },
  {
   "cell_type": "markdown",
   "metadata": {},
   "source": [
    "## Save processed dataset"
   ]
  },
  {
   "cell_type": "code",
   "execution_count": 20,
   "metadata": {
    "metadata": {}
   },
   "outputs": [],
   "source": [
    "df.to_csv(DATA_FOLDER + \"ratings_processed_Yelp.csv\", index=False)"
   ]
  }
 ],
 "metadata": {
  "kernelspec": {
   "display_name": "Python 3",
   "language": "python",
   "name": "python3"
  },
  "language_info": {
   "codemirror_mode": {
    "name": "ipython",
    "version": 3
   },
   "file_extension": ".py",
   "mimetype": "text/x-python",
   "name": "python",
   "nbconvert_exporter": "python",
   "pygments_lexer": "ipython3",
   "version": "3.10.14"
  }
 },
 "nbformat": 4,
 "nbformat_minor": 4
}
